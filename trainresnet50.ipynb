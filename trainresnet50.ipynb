{
 "cells": [
  {
   "cell_type": "code",
   "execution_count": 1,
   "id": "b1d64039",
   "metadata": {
    "execution": {
     "iopub.execute_input": "2024-11-16T09:44:52.703324Z",
     "iopub.status.busy": "2024-11-16T09:44:52.702985Z",
     "iopub.status.idle": "2024-11-16T09:44:58.660236Z",
     "shell.execute_reply": "2024-11-16T09:44:58.659510Z"
    },
    "papermill": {
     "duration": 5.967829,
     "end_time": "2024-11-16T09:44:58.662415",
     "exception": false,
     "start_time": "2024-11-16T09:44:52.694586",
     "status": "completed"
    },
    "tags": []
   },
   "outputs": [],
   "source": [
    "import pandas as pd\n",
    "import numpy as np\n",
    "from matplotlib import pyplot as plt\n",
    "import ast\n",
    "import json\n",
    "from PIL import Image,ImageDraw,ImageDraw2\n",
    "import  io\n",
    "import torch\n",
    "import torch.nn as nn\n",
    "from torch.utils.data import Dataset, DataLoader, ConcatDataset\n",
    "import torchvision\n",
    "from torchvision import transforms, utils\n",
    "import torchvision.transforms as T\n",
    "import os\n",
    "import cv2\n",
    "import glob\n",
    "import time\n",
    "import tqdm\n",
    "import warnings\n",
    "warnings.filterwarnings(\"ignore\")\n",
    "\n",
    "\n",
    "%matplotlib inline\n",
    "%config InlineBackend.figure_format = 'retina'"
   ]
  },
  {
   "cell_type": "code",
   "execution_count": 2,
   "id": "52f4c583",
   "metadata": {
    "execution": {
     "iopub.execute_input": "2024-11-16T09:44:58.677350Z",
     "iopub.status.busy": "2024-11-16T09:44:58.676903Z",
     "iopub.status.idle": "2024-11-16T09:44:58.680801Z",
     "shell.execute_reply": "2024-11-16T09:44:58.679933Z"
    },
    "papermill": {
     "duration": 0.013418,
     "end_time": "2024-11-16T09:44:58.682756",
     "exception": false,
     "start_time": "2024-11-16T09:44:58.669338",
     "status": "completed"
    },
    "tags": []
   },
   "outputs": [],
   "source": [
    "# model =torchvision.models.resnet50(pretrained = False)"
   ]
  },
  {
   "cell_type": "code",
   "execution_count": 3,
   "id": "0335876b",
   "metadata": {
    "execution": {
     "iopub.execute_input": "2024-11-16T09:44:58.696902Z",
     "iopub.status.busy": "2024-11-16T09:44:58.696613Z",
     "iopub.status.idle": "2024-11-16T09:44:58.700208Z",
     "shell.execute_reply": "2024-11-16T09:44:58.699429Z"
    },
    "papermill": {
     "duration": 0.013044,
     "end_time": "2024-11-16T09:44:58.702232",
     "exception": false,
     "start_time": "2024-11-16T09:44:58.689188",
     "status": "completed"
    },
    "tags": []
   },
   "outputs": [],
   "source": [
    "# model =torchvision.models.resnet50(pretrained = False)\n",
    "# model.load_state_dict(torch.load(\"/kaggle/input/resnet50/pytorch/default/1/resnet50-0676ba61.pth\"))"
   ]
  },
  {
   "cell_type": "code",
   "execution_count": 4,
   "id": "2edd8975",
   "metadata": {
    "execution": {
     "iopub.execute_input": "2024-11-16T09:44:58.717254Z",
     "iopub.status.busy": "2024-11-16T09:44:58.716945Z",
     "iopub.status.idle": "2024-11-16T09:44:58.720664Z",
     "shell.execute_reply": "2024-11-16T09:44:58.719840Z"
    },
    "papermill": {
     "duration": 0.013031,
     "end_time": "2024-11-16T09:44:58.722696",
     "exception": false,
     "start_time": "2024-11-16T09:44:58.709665",
     "status": "completed"
    },
    "tags": []
   },
   "outputs": [],
   "source": [
    "en_dict = {}\n",
    "dec_dict = {}"
   ]
  },
  {
   "cell_type": "code",
   "execution_count": 5,
   "id": "acfc4ae6",
   "metadata": {
    "execution": {
     "iopub.execute_input": "2024-11-16T09:44:58.736877Z",
     "iopub.status.busy": "2024-11-16T09:44:58.736560Z",
     "iopub.status.idle": "2024-11-16T09:44:58.759028Z",
     "shell.execute_reply": "2024-11-16T09:44:58.758216Z"
    },
    "papermill": {
     "duration": 0.031989,
     "end_time": "2024-11-16T09:44:58.761026",
     "exception": false,
     "start_time": "2024-11-16T09:44:58.729037",
     "status": "completed"
    },
    "tags": []
   },
   "outputs": [],
   "source": [
    "def encode_files(csv):\n",
    "    \"\"\" Encode all label by name of csv_files \"\"\"\n",
    "    counter = 0\n",
    "    for fn in csv:\n",
    "        en_dict[fn[:-4].split('/')[-1].replace(' ', '_')] = counter\n",
    "        counter += 1\n",
    "        \n",
    "\n",
    "def decode_labels(label):\n",
    "    return dec_dict[label]\n",
    "\n",
    "def get_label(nfile):\n",
    "    return en_dict[nfile.replace(' ', '_')[:-4]]\n",
    "\n",
    "def get_csv(path):\n",
    "    csv_files = []\n",
    "    for file in os.listdir(path):\n",
    "        if file.endswith('csv'):\n",
    "            csv_files.append(file)\n",
    "    return csv_files\n",
    "\n",
    "def strokes_to_arr_1Channel(arr):\n",
    "    arr = ast.literal_eval(arr)\n",
    "    x = [x_pnt for stroke in arr for x_pnt in stroke[0]]\n",
    "    y = [x_pnt for stroke in arr for x_pnt in stroke[1]]\n",
    "\n",
    "    plt.plot(x,y,color = 'black')\n",
    "    plt.axis('off')\n",
    "\n",
    "    buf = io.BytesIO()\n",
    "    plt.savefig(buf, format='png')\n",
    "    buf.seek(0)\n",
    "    plt.clf()\n",
    "    \n",
    "    image = np.array(Image.open(buf))\n",
    "    buf.close()\n",
    "    image = np.transpose(image, (2, 0, 1))\n",
    "    image = 0.2989*image[0] + 0.5870*image[1] + 0.1140*image[2]\n",
    "    image = np.ceil(image)\n",
    "    image = cv2.resize(image, (224, 224), interpolation=cv2.INTER_LINEAR)\n",
    "    return image\n",
    "\n",
    "\n",
    "def strokes_to_arr_3Channels(arr):\n",
    "    arr = ast.literal_eval(arr)\n",
    "    x = [x_pnt for stroke in arr for x_pnt in stroke[0]]\n",
    "    y = [x_pnt for stroke in arr for x_pnt in stroke[1]]\n",
    "\n",
    "    plt.plot(x,y,color = 'black')\n",
    "    plt.axis('off')\n",
    "\n",
    "    buf = io.BytesIO()\n",
    "    plt.savefig(buf, format='png')\n",
    "    buf.seek(0)\n",
    "    plt.clf()\n",
    "    \n",
    "    image = np.array(Image.open(buf))\n",
    "    buf.close()\n",
    "    image = np.transpose(image, (2, 0, 1))\n",
    "    image = np.asarray([image[0],image[1],image[2]])\n",
    "    return image\n",
    "\n",
    "def validation(lossf, scoref):\n",
    "    model.eval()\n",
    "    loss, score = 0, 0\n",
    "    vlen = len(valid_loader)\n",
    "    for x, y in valid_loader:\n",
    "        x, y = x.to(device), y.to(device)\n",
    "        output = model(x)\n",
    "        loss += lossf(output, y).item()\n",
    "        score += scoref(output, y)[0].item()\n",
    "    model.train()\n",
    "    return loss/vlen, score/vlen\n",
    "\n",
    "def accuracy(output, target, topk=(3,)):\n",
    "    \"\"\"Computes the accuracy over the k top predictions for the specified values of k\"\"\"\n",
    "    with torch.no_grad():\n",
    "        maxk = max(topk)\n",
    "        batch_size = target.size(0)\n",
    "\n",
    "        _, pred = output.topk(maxk, 1, True, True)\n",
    "        pred = pred.t()\n",
    "        correct = pred.eq(target.view(1, -1).expand_as(pred))\n",
    "\n",
    "        res = []\n",
    "        for k in topk:\n",
    "            correct_k = correct[:k].view(-1).float().sum(0, keepdim=True)\n",
    "            res.append(correct_k.mul_(100.0 / batch_size))\n",
    "        return res\n",
    "\n",
    "def mapk(output, target, k=3):\n",
    "    \"\"\"\n",
    "    Computes the mean average precision at k.\n",
    "    \n",
    "    Parameters\n",
    "    ----------\n",
    "    output (torch.Tensor): A Tensor of predicted elements.\n",
    "                           Shape: (N,C)  where C = number of classes, N = batch size\n",
    "    target (torch.int): A Tensor of elements that are to be predicted. \n",
    "                        Shape: (N) where each value is  0≤targets[i]≤C−1\n",
    "    k (int, optional): The maximum number of predicted elements\n",
    "    \n",
    "    Returns\n",
    "    -------\n",
    "    score (torch.float):  The mean average precision at k over the output\n",
    "    \"\"\"\n",
    "    with torch.no_grad():\n",
    "        batch_size = target.size(0)\n",
    "\n",
    "        _, pred = output.topk(k, 1, True, True)\n",
    "        pred = pred.t()\n",
    "        correct = pred.eq(target.view(1, -1).expand_as(pred))\n",
    "\n",
    "        for i in range(k):\n",
    "            correct[i] = correct[i]*(k-i)\n",
    "            \n",
    "        score = correct[:k].view(-1).float().sum(0, keepdim=True)\n",
    "        score.mul_(1.0 / (k * batch_size))\n",
    "        return score\n",
    "    \n",
    "def squeeze_weights(m):\n",
    "        m.weight.data = m.weight.data.sum(dim=1)[:,None]\n",
    "        m.in_channels = 1"
   ]
  },
  {
   "cell_type": "code",
   "execution_count": 6,
   "id": "f4889774",
   "metadata": {
    "execution": {
     "iopub.execute_input": "2024-11-16T09:44:58.775567Z",
     "iopub.status.busy": "2024-11-16T09:44:58.774835Z",
     "iopub.status.idle": "2024-11-16T09:44:58.930100Z",
     "shell.execute_reply": "2024-11-16T09:44:58.929208Z"
    },
    "papermill": {
     "duration": 0.1648,
     "end_time": "2024-11-16T09:44:58.932347",
     "exception": false,
     "start_time": "2024-11-16T09:44:58.767547",
     "status": "completed"
    },
    "tags": []
   },
   "outputs": [],
   "source": [
    "path = \"/kaggle/input/quickdraw-doodle-recognition/train_raw/\"\n",
    "csv = get_csv(path)\n",
    "csv = sorted(csv)\n",
    "encode_files(csv)\n",
    "dec_dict = {v: k for k, v in en_dict.items()}"
   ]
  },
  {
   "cell_type": "code",
   "execution_count": null,
   "id": "effe939a",
   "metadata": {
    "papermill": {
     "duration": 0.006336,
     "end_time": "2024-11-16T09:44:58.945395",
     "exception": false,
     "start_time": "2024-11-16T09:44:58.939059",
     "status": "completed"
    },
    "tags": []
   },
   "outputs": [],
   "source": []
  },
  {
   "cell_type": "markdown",
   "id": "d3e76b02",
   "metadata": {
    "papermill": {
     "duration": 0.006208,
     "end_time": "2024-11-16T09:44:58.958029",
     "exception": false,
     "start_time": "2024-11-16T09:44:58.951821",
     "status": "completed"
    },
    "tags": []
   },
   "source": [
    "## CNN MODEL COMPUTE IS NOT ENOUGH TO TRAIN"
   ]
  },
  {
   "cell_type": "code",
   "execution_count": 7,
   "id": "15f824dd",
   "metadata": {
    "execution": {
     "iopub.execute_input": "2024-11-16T09:44:58.972755Z",
     "iopub.status.busy": "2024-11-16T09:44:58.971976Z",
     "iopub.status.idle": "2024-11-16T09:44:58.977791Z",
     "shell.execute_reply": "2024-11-16T09:44:58.976938Z"
    },
    "papermill": {
     "duration": 0.014913,
     "end_time": "2024-11-16T09:44:58.979612",
     "exception": false,
     "start_time": "2024-11-16T09:44:58.964699",
     "status": "completed"
    },
    "tags": []
   },
   "outputs": [],
   "source": [
    "# class StrokeDataset(Dataset):\n",
    "#     def __init__(self, csv_dir, stroke_to_numpy_func, transform=None):\n",
    "#         self.csv_dir = csv_dir\n",
    "#         self.transform = transform\n",
    "#         self.stroke_to_numpy_func = stroke_to_numpy_func\n",
    "#         self.classes = os.listdir(csv_dir)\n",
    "#         self.filepaths = []\n",
    "#         self.labels = []\n",
    "        \n",
    "#         for idx, class_name in enumerate(self.classes):\n",
    "#             csv_file = os.path.join(csv_dir, class_name)\n",
    "#             df = pd.read_csv(csv_file)\n",
    "#             for stroke in df['drawing']:\n",
    "#                 self.filepaths.append(stroke)\n",
    "#                 self.labels.append(idx)\n",
    "    \n",
    "#     def __len__(self):\n",
    "#         return len(self.filepaths)\n",
    "    \n",
    "#     def __getitem__(self, idx):\n",
    "#         stroke = self.filepaths[idx]\n",
    "#         label = self.labels[idx]\n",
    "        \n",
    "#         # Convert stroke to numpy array and ensure it’s grayscale (224x224)\n",
    "#         image_np = self.stroke_to_numpy_func(stroke)  # Expected output: (224, 224) for grayscale\n",
    "        \n",
    "#         # Resize if needed and convert to tensor\n",
    "#         transform_resize = T.Resize((224, 224))\n",
    "#         image = transform_resize(torch.tensor(image_np).unsqueeze(0)).float()  # (1, 224, 224)\n",
    "\n",
    "#         if self.transform:\n",
    "#             image = self.transform(image)\n",
    "        \n",
    "#         return image, label\n",
    "\n",
    "# # Define a CNN model for grayscale input\n",
    "# class CNNModel(nn.Module):\n",
    "#     def __init__(self, num_classes):\n",
    "#         super(CNNModel, self).__init__()\n",
    "#         self.conv1 = nn.Conv2d(1, 32, kernel_size=3, stride=1, padding=1)  # Input channels changed to 1\n",
    "#         self.conv2 = nn.Conv2d(32, 64, kernel_size=3, stride=1, padding=1)\n",
    "#         self.pool = nn.MaxPool2d(kernel_size=2, stride=2, padding=0)\n",
    "#         self.fc1 = nn.Linear(64 * 56 * 56, 256)  # Adjusted for 224x224 input after pooling\n",
    "#         self.fc2 = nn.Linear(256, num_classes)\n",
    "    \n",
    "#     def forward(self, x):\n",
    "#         x = self.pool(torch.relu(self.conv1(x)))\n",
    "#         x = self.pool(torch.relu(self.conv2(x)))\n",
    "#         x = x.view(-1, 64 * 56 * 56)\n",
    "#         x = torch.relu(self.fc1(x))\n",
    "#         x = self.fc2(x)\n",
    "#         return x"
   ]
  },
  {
   "cell_type": "code",
   "execution_count": 8,
   "id": "51558c70",
   "metadata": {
    "execution": {
     "iopub.execute_input": "2024-11-16T09:44:58.995070Z",
     "iopub.status.busy": "2024-11-16T09:44:58.994322Z",
     "iopub.status.idle": "2024-11-16T09:44:59.063405Z",
     "shell.execute_reply": "2024-11-16T09:44:59.062329Z"
    },
    "papermill": {
     "duration": 0.079358,
     "end_time": "2024-11-16T09:44:59.065375",
     "exception": false,
     "start_time": "2024-11-16T09:44:58.986017",
     "status": "completed"
    },
    "tags": []
   },
   "outputs": [
    {
     "name": "stdout",
     "output_type": "stream",
     "text": [
      "Using device: cuda\n"
     ]
    }
   ],
   "source": [
    "device = torch.device(\"cuda\" if torch.cuda.is_available() else \"cpu\")\n",
    "print(f\"Using device: {device}\")"
   ]
  },
  {
   "cell_type": "code",
   "execution_count": 9,
   "id": "eb5fea11",
   "metadata": {
    "execution": {
     "iopub.execute_input": "2024-11-16T09:44:59.079811Z",
     "iopub.status.busy": "2024-11-16T09:44:59.079524Z",
     "iopub.status.idle": "2024-11-16T09:44:59.083296Z",
     "shell.execute_reply": "2024-11-16T09:44:59.082457Z"
    },
    "papermill": {
     "duration": 0.01316,
     "end_time": "2024-11-16T09:44:59.085176",
     "exception": false,
     "start_time": "2024-11-16T09:44:59.072016",
     "status": "completed"
    },
    "tags": []
   },
   "outputs": [],
   "source": [
    "# num_classes = 89\n",
    "# batch_size = 64\n",
    "# learning_rate = 0.001\n",
    "# num_epochs = 10\n",
    "\n",
    "# dataset = StrokeDataset(csv_dir=\"/kaggle/input/train-doodle/\", stroke_to_numpy_func=strokes_to_arr)\n",
    "# dataloader = DataLoader(dataset, batch_size=batch_size, shuffle=True)"
   ]
  },
  {
   "cell_type": "code",
   "execution_count": 10,
   "id": "707c6658",
   "metadata": {
    "execution": {
     "iopub.execute_input": "2024-11-16T09:44:59.099386Z",
     "iopub.status.busy": "2024-11-16T09:44:59.099075Z",
     "iopub.status.idle": "2024-11-16T09:44:59.103344Z",
     "shell.execute_reply": "2024-11-16T09:44:59.102562Z"
    },
    "papermill": {
     "duration": 0.013496,
     "end_time": "2024-11-16T09:44:59.105232",
     "exception": false,
     "start_time": "2024-11-16T09:44:59.091736",
     "status": "completed"
    },
    "tags": []
   },
   "outputs": [],
   "source": [
    "\n",
    "\n",
    "# model = CNNModel(num_classes=num_classes).to(device)\n",
    "# criterion = nn.CrossEntropyLoss()\n",
    "# optimizer = optim.Adam(model.parameters(), lr=learning_rate)\n",
    "\n",
    "\n",
    "# for epoch in range(num_epochs):\n",
    "#     running_loss = 0.0\n",
    "#     for images, labels in dataloader:\n",
    "#         images, labels = images.to(device), labels.to(device)\n",
    "#         optimizer.zero_grad()\n",
    "        \n",
    "#         outputs = model(images)\n",
    "#         loss = criterion(outputs, labels)\n",
    "\n",
    "#         loss.backward()\n",
    "#         optimizer.step()\n",
    "        \n",
    "#         running_loss += loss.item()\n",
    "    \n",
    "#     print(f\"Epoch [{epoch+1}/{num_epochs}], Loss: {running_loss/len(dataloader):.4f}\")\n",
    "\n",
    "# print(\"Training complete!\")"
   ]
  },
  {
   "cell_type": "code",
   "execution_count": 11,
   "id": "afa7ff2f",
   "metadata": {
    "execution": {
     "iopub.execute_input": "2024-11-16T09:44:59.119579Z",
     "iopub.status.busy": "2024-11-16T09:44:59.118887Z",
     "iopub.status.idle": "2024-11-16T09:44:59.122719Z",
     "shell.execute_reply": "2024-11-16T09:44:59.121863Z"
    },
    "papermill": {
     "duration": 0.012768,
     "end_time": "2024-11-16T09:44:59.124530",
     "exception": false,
     "start_time": "2024-11-16T09:44:59.111762",
     "status": "completed"
    },
    "tags": []
   },
   "outputs": [],
   "source": [
    "# model_save_path = 'CNNmodel.pth'\n",
    "# torch.save(model.state_dict(), model_save_path)\n",
    "# print(f\"Model saved to {model_save_path}\")"
   ]
  },
  {
   "cell_type": "markdown",
   "id": "61ca8247",
   "metadata": {
    "papermill": {
     "duration": 0.006639,
     "end_time": "2024-11-16T09:44:59.137720",
     "exception": false,
     "start_time": "2024-11-16T09:44:59.131081",
     "status": "completed"
    },
    "tags": []
   },
   "source": [
    "## TRYING RESNET50 AND RESNET 18"
   ]
  },
  {
   "cell_type": "code",
   "execution_count": 12,
   "id": "4f8026ca",
   "metadata": {
    "execution": {
     "iopub.execute_input": "2024-11-16T09:44:59.152288Z",
     "iopub.status.busy": "2024-11-16T09:44:59.151989Z",
     "iopub.status.idle": "2024-11-16T09:44:59.159977Z",
     "shell.execute_reply": "2024-11-16T09:44:59.159272Z"
    },
    "papermill": {
     "duration": 0.017479,
     "end_time": "2024-11-16T09:44:59.161938",
     "exception": false,
     "start_time": "2024-11-16T09:44:59.144459",
     "status": "completed"
    },
    "tags": []
   },
   "outputs": [],
   "source": [
    "class DoodleDataset(Dataset):\n",
    "    def __init__(self,csv,directory,function,mode,nrows=0,transform = None):\n",
    "        self.csv = csv\n",
    "        self.directory = directory\n",
    "        self.function = function\n",
    "        self.transform = transform\n",
    "        self.mode = mode \n",
    "        self.image = pd.read_csv(directory + csv,usecols = ['drawing'],nrows=nrows)\n",
    "        self.label = get_label(csv)\n",
    "                \n",
    "    def __len__(self):\n",
    "        return len(self.image)\n",
    "            \n",
    "    def __getitem__(self, idx):\n",
    "        image = self.function(self.image['drawing'][idx])\n",
    "        label = self.label\n",
    "    \n",
    "\n",
    "        # Resize if needed and convert to tensor\n",
    "        transform_resize = T.Resize((224, 224))\n",
    "        image = transform_resize(torch.tensor(image).unsqueeze(0)).float()  # (1, 224, 224)\n",
    "        image = image.repeat(3, 1, 1)\n",
    "        \n",
    "        if self.transform:\n",
    "            image = self.transform(image)\n",
    "        \n",
    "        if self.mode == 'train':\n",
    "            return image, label\n",
    "        return image"
   ]
  },
  {
   "cell_type": "code",
   "execution_count": 13,
   "id": "6af25791",
   "metadata": {
    "execution": {
     "iopub.execute_input": "2024-11-16T09:44:59.176179Z",
     "iopub.status.busy": "2024-11-16T09:44:59.175543Z",
     "iopub.status.idle": "2024-11-16T09:44:59.179753Z",
     "shell.execute_reply": "2024-11-16T09:44:59.179037Z"
    },
    "papermill": {
     "duration": 0.013235,
     "end_time": "2024-11-16T09:44:59.181585",
     "exception": false,
     "start_time": "2024-11-16T09:44:59.168350",
     "status": "completed"
    },
    "tags": []
   },
   "outputs": [],
   "source": [
    "path = \"/kaggle/input/quickdraw-doodle-recognition/train_raw/\"\n",
    "csv = get_csv(path)\n"
   ]
  },
  {
   "cell_type": "code",
   "execution_count": 14,
   "id": "10f0e832",
   "metadata": {
    "execution": {
     "iopub.execute_input": "2024-11-16T09:44:59.195449Z",
     "iopub.status.busy": "2024-11-16T09:44:59.195189Z",
     "iopub.status.idle": "2024-11-16T09:45:00.657999Z",
     "shell.execute_reply": "2024-11-16T09:45:00.657039Z"
    },
    "papermill": {
     "duration": 1.472081,
     "end_time": "2024-11-16T09:45:00.660140",
     "exception": false,
     "start_time": "2024-11-16T09:44:59.188059",
     "status": "completed"
    },
    "tags": []
   },
   "outputs": [
    {
     "data": {
      "text/plain": [
       "<All keys matched successfully>"
      ]
     },
     "execution_count": 14,
     "metadata": {},
     "output_type": "execute_result"
    }
   ],
   "source": [
    "model =torchvision.models.resnet50(pretrained = False)\n",
    "model.load_state_dict(torch.load(\"/kaggle/input/resnet50/pytorch/default/1/resnet50-0676ba61.pth\"))"
   ]
  },
  {
   "cell_type": "code",
   "execution_count": 15,
   "id": "09ed5127",
   "metadata": {
    "execution": {
     "iopub.execute_input": "2024-11-16T09:45:00.675120Z",
     "iopub.status.busy": "2024-11-16T09:45:00.674776Z",
     "iopub.status.idle": "2024-11-16T09:45:00.680395Z",
     "shell.execute_reply": "2024-11-16T09:45:00.679556Z"
    },
    "papermill": {
     "duration": 0.015329,
     "end_time": "2024-11-16T09:45:00.682403",
     "exception": false,
     "start_time": "2024-11-16T09:45:00.667074",
     "status": "completed"
    },
    "tags": []
   },
   "outputs": [],
   "source": [
    "for param in model.parameters():\n",
    "    if isinstance(param, nn.Conv2d):\n",
    "        param.requires_grad = False"
   ]
  },
  {
   "cell_type": "code",
   "execution_count": 16,
   "id": "6d731f60",
   "metadata": {
    "execution": {
     "iopub.execute_input": "2024-11-16T09:45:00.696847Z",
     "iopub.status.busy": "2024-11-16T09:45:00.696532Z",
     "iopub.status.idle": "2024-11-16T09:45:00.710280Z",
     "shell.execute_reply": "2024-11-16T09:45:00.709535Z"
    },
    "papermill": {
     "duration": 0.023222,
     "end_time": "2024-11-16T09:45:00.712285",
     "exception": false,
     "start_time": "2024-11-16T09:45:00.689063",
     "status": "completed"
    },
    "tags": []
   },
   "outputs": [],
   "source": [
    "num_classes = 340\n",
    "model.fc = nn.Linear(model.fc.in_features, out_features=num_classes, bias=True)\n",
    "criterion = nn.CrossEntropyLoss()\n",
    "optimizer = torch.optim.Adam(model.parameters(), lr=0.0001, amsgrad=True)\n",
    "scheduler = torch.optim.lr_scheduler.MultiStepLR(optimizer, milestones=[5000,12000,18000], gamma=0.5)"
   ]
  },
  {
   "cell_type": "code",
   "execution_count": 17,
   "id": "8100ff3b",
   "metadata": {
    "execution": {
     "iopub.execute_input": "2024-11-16T09:45:00.727254Z",
     "iopub.status.busy": "2024-11-16T09:45:00.726437Z",
     "iopub.status.idle": "2024-11-16T09:49:51.344277Z",
     "shell.execute_reply": "2024-11-16T09:49:51.343442Z"
    },
    "papermill": {
     "duration": 290.627846,
     "end_time": "2024-11-16T09:49:51.346703",
     "exception": false,
     "start_time": "2024-11-16T09:45:00.718857",
     "status": "completed"
    },
    "tags": []
   },
   "outputs": [],
   "source": [
    "dataset = ConcatDataset([DoodleDataset(c,path,strokes_to_arr_1Channel,'train',10000,None) for c in csv])\n",
    "loader = DataLoader(dataset, batch_size=32, shuffle=True, num_workers=0)"
   ]
  },
  {
   "cell_type": "code",
   "execution_count": 18,
   "id": "9ba02a0e",
   "metadata": {
    "execution": {
     "iopub.execute_input": "2024-11-16T09:49:51.366238Z",
     "iopub.status.busy": "2024-11-16T09:49:51.365825Z",
     "iopub.status.idle": "2024-11-16T09:49:51.598136Z",
     "shell.execute_reply": "2024-11-16T09:49:51.597173Z"
    },
    "papermill": {
     "duration": 0.242776,
     "end_time": "2024-11-16T09:49:51.600370",
     "exception": false,
     "start_time": "2024-11-16T09:49:51.357594",
     "status": "completed"
    },
    "tags": []
   },
   "outputs": [
    {
     "name": "stdout",
     "output_type": "stream",
     "text": [
      "Using device: cuda\n"
     ]
    }
   ],
   "source": [
    "device = torch.device(\"cuda\" if torch.cuda.is_available() else \"cpu\")\n",
    "print(f\"Using device: {device}\")\n",
    "model.to(device);"
   ]
  },
  {
   "cell_type": "code",
   "execution_count": 19,
   "id": "c94ad0d5",
   "metadata": {
    "execution": {
     "iopub.execute_input": "2024-11-16T09:49:51.615689Z",
     "iopub.status.busy": "2024-11-16T09:49:51.614880Z"
    },
    "papermill": {
     "duration": null,
     "end_time": null,
     "exception": false,
     "start_time": "2024-11-16T09:49:51.607335",
     "status": "running"
    },
    "tags": []
   },
   "outputs": [
    {
     "name": "stdout",
     "output_type": "stream",
     "text": [
      "Iteration 127 -> Train Loss: 5.5774,Accuracy: 0.042\n"
     ]
    },
    {
     "name": "stdout",
     "output_type": "stream",
     "text": [
      "Iteration 254 -> Train Loss: 4.5594,Accuracy: 0.133\n"
     ]
    },
    {
     "name": "stdout",
     "output_type": "stream",
     "text": [
      "Iteration 381 -> Train Loss: 3.9416,Accuracy: 0.200\n"
     ]
    },
    {
     "name": "stdout",
     "output_type": "stream",
     "text": [
      "Iteration 508 -> Train Loss: 3.5159,Accuracy: 0.253\n"
     ]
    },
    {
     "name": "stdout",
     "output_type": "stream",
     "text": [
      "Iteration 635 -> Train Loss: 3.2241,Accuracy: 0.294\n"
     ]
    },
    {
     "name": "stdout",
     "output_type": "stream",
     "text": [
      "Iteration 762 -> Train Loss: 3.0218,Accuracy: 0.319\n"
     ]
    },
    {
     "name": "stdout",
     "output_type": "stream",
     "text": [
      "Iteration 889 -> Train Loss: 2.8318,Accuracy: 0.362\n"
     ]
    },
    {
     "name": "stdout",
     "output_type": "stream",
     "text": [
      "Iteration 1016 -> Train Loss: 2.7613,Accuracy: 0.372\n"
     ]
    },
    {
     "name": "stdout",
     "output_type": "stream",
     "text": [
      "Iteration 1143 -> Train Loss: 2.6191,Accuracy: 0.394\n"
     ]
    },
    {
     "name": "stdout",
     "output_type": "stream",
     "text": [
      "Iteration 1270 -> Train Loss: 2.4627,Accuracy: 0.435\n"
     ]
    },
    {
     "name": "stdout",
     "output_type": "stream",
     "text": [
      "Iteration 1397 -> Train Loss: 2.4027,Accuracy: 0.452\n"
     ]
    },
    {
     "name": "stdout",
     "output_type": "stream",
     "text": [
      "Iteration 1524 -> Train Loss: 2.3213,Accuracy: 0.458\n"
     ]
    },
    {
     "name": "stdout",
     "output_type": "stream",
     "text": [
      "Iteration 1651 -> Train Loss: 2.3169,Accuracy: 0.447\n"
     ]
    },
    {
     "name": "stdout",
     "output_type": "stream",
     "text": [
      "Iteration 1778 -> Train Loss: 2.2828,Accuracy: 0.460\n"
     ]
    },
    {
     "name": "stdout",
     "output_type": "stream",
     "text": [
      "Iteration 1905 -> Train Loss: 2.2551,Accuracy: 0.472\n"
     ]
    },
    {
     "name": "stdout",
     "output_type": "stream",
     "text": [
      "Iteration 2032 -> Train Loss: 2.1832,Accuracy: 0.473\n"
     ]
    },
    {
     "name": "stdout",
     "output_type": "stream",
     "text": [
      "Iteration 2159 -> Train Loss: 2.1246,Accuracy: 0.481\n"
     ]
    },
    {
     "name": "stdout",
     "output_type": "stream",
     "text": [
      "Iteration 2286 -> Train Loss: 2.1249,Accuracy: 0.499\n"
     ]
    },
    {
     "name": "stdout",
     "output_type": "stream",
     "text": [
      "Iteration 2413 -> Train Loss: 2.0105,Accuracy: 0.509\n"
     ]
    },
    {
     "name": "stdout",
     "output_type": "stream",
     "text": [
      "Iteration 2540 -> Train Loss: 2.0142,Accuracy: 0.516\n"
     ]
    },
    {
     "name": "stdout",
     "output_type": "stream",
     "text": [
      "Iteration 2667 -> Train Loss: 2.0161,Accuracy: 0.513\n"
     ]
    },
    {
     "name": "stdout",
     "output_type": "stream",
     "text": [
      "Iteration 2794 -> Train Loss: 1.9834,Accuracy: 0.507\n"
     ]
    },
    {
     "name": "stdout",
     "output_type": "stream",
     "text": [
      "Iteration 2921 -> Train Loss: 1.9830,Accuracy: 0.524\n"
     ]
    },
    {
     "name": "stdout",
     "output_type": "stream",
     "text": [
      "Iteration 3048 -> Train Loss: 1.9303,Accuracy: 0.530\n"
     ]
    },
    {
     "name": "stdout",
     "output_type": "stream",
     "text": [
      "Iteration 3175 -> Train Loss: 1.9450,Accuracy: 0.536\n"
     ]
    },
    {
     "name": "stdout",
     "output_type": "stream",
     "text": [
      "Iteration 3302 -> Train Loss: 1.9503,Accuracy: 0.522\n"
     ]
    },
    {
     "name": "stdout",
     "output_type": "stream",
     "text": [
      "Iteration 3429 -> Train Loss: 1.9391,Accuracy: 0.535\n"
     ]
    },
    {
     "name": "stdout",
     "output_type": "stream",
     "text": [
      "Iteration 3556 -> Train Loss: 1.8994,Accuracy: 0.533\n"
     ]
    },
    {
     "name": "stdout",
     "output_type": "stream",
     "text": [
      "Iteration 3683 -> Train Loss: 1.8077,Accuracy: 0.559\n"
     ]
    },
    {
     "name": "stdout",
     "output_type": "stream",
     "text": [
      "Iteration 3810 -> Train Loss: 1.8289,Accuracy: 0.554\n"
     ]
    },
    {
     "name": "stdout",
     "output_type": "stream",
     "text": [
      "Iteration 3937 -> Train Loss: 1.8578,Accuracy: 0.542\n"
     ]
    },
    {
     "name": "stdout",
     "output_type": "stream",
     "text": [
      "Iteration 4064 -> Train Loss: 1.8344,Accuracy: 0.548\n"
     ]
    },
    {
     "name": "stdout",
     "output_type": "stream",
     "text": [
      "Iteration 4191 -> Train Loss: 1.7610,Accuracy: 0.560\n"
     ]
    },
    {
     "name": "stdout",
     "output_type": "stream",
     "text": [
      "Iteration 4318 -> Train Loss: 1.8320,Accuracy: 0.552\n"
     ]
    },
    {
     "name": "stdout",
     "output_type": "stream",
     "text": [
      "Iteration 4445 -> Train Loss: 1.7815,Accuracy: 0.568\n"
     ]
    },
    {
     "name": "stdout",
     "output_type": "stream",
     "text": [
      "Iteration 4572 -> Train Loss: 1.7368,Accuracy: 0.570\n"
     ]
    },
    {
     "name": "stdout",
     "output_type": "stream",
     "text": [
      "Iteration 4699 -> Train Loss: 1.7411,Accuracy: 0.573\n"
     ]
    },
    {
     "name": "stdout",
     "output_type": "stream",
     "text": [
      "Iteration 4826 -> Train Loss: 1.7152,Accuracy: 0.575\n"
     ]
    },
    {
     "name": "stdout",
     "output_type": "stream",
     "text": [
      "Iteration 4953 -> Train Loss: 1.8084,Accuracy: 0.564\n"
     ]
    },
    {
     "name": "stdout",
     "output_type": "stream",
     "text": [
      "Iteration 5080 -> Train Loss: 1.6531,Accuracy: 0.590\n"
     ]
    },
    {
     "name": "stdout",
     "output_type": "stream",
     "text": [
      "Iteration 5207 -> Train Loss: 1.6089,Accuracy: 0.606\n"
     ]
    },
    {
     "name": "stdout",
     "output_type": "stream",
     "text": [
      "Iteration 5334 -> Train Loss: 1.5247,Accuracy: 0.616\n"
     ]
    },
    {
     "name": "stdout",
     "output_type": "stream",
     "text": [
      "Iteration 5461 -> Train Loss: 1.5793,Accuracy: 0.601\n"
     ]
    },
    {
     "name": "stdout",
     "output_type": "stream",
     "text": [
      "Iteration 5588 -> Train Loss: 1.5801,Accuracy: 0.619\n"
     ]
    },
    {
     "name": "stdout",
     "output_type": "stream",
     "text": [
      "Iteration 5715 -> Train Loss: 1.5099,Accuracy: 0.627\n"
     ]
    },
    {
     "name": "stdout",
     "output_type": "stream",
     "text": [
      "Iteration 5842 -> Train Loss: 1.5473,Accuracy: 0.618\n"
     ]
    },
    {
     "name": "stdout",
     "output_type": "stream",
     "text": [
      "Iteration 5969 -> Train Loss: 1.5681,Accuracy: 0.604\n"
     ]
    },
    {
     "name": "stdout",
     "output_type": "stream",
     "text": [
      "Iteration 6096 -> Train Loss: 1.5483,Accuracy: 0.619\n"
     ]
    },
    {
     "name": "stdout",
     "output_type": "stream",
     "text": [
      "Iteration 6223 -> Train Loss: 1.4773,Accuracy: 0.629\n"
     ]
    },
    {
     "name": "stdout",
     "output_type": "stream",
     "text": [
      "Iteration 6350 -> Train Loss: 1.5329,Accuracy: 0.619\n"
     ]
    },
    {
     "name": "stdout",
     "output_type": "stream",
     "text": [
      "Iteration 6477 -> Train Loss: 1.4831,Accuracy: 0.639\n"
     ]
    },
    {
     "name": "stdout",
     "output_type": "stream",
     "text": [
      "Iteration 6604 -> Train Loss: 1.5470,Accuracy: 0.624\n"
     ]
    },
    {
     "name": "stdout",
     "output_type": "stream",
     "text": [
      "Iteration 6731 -> Train Loss: 1.4738,Accuracy: 0.639\n"
     ]
    },
    {
     "name": "stdout",
     "output_type": "stream",
     "text": [
      "Iteration 6858 -> Train Loss: 1.5134,Accuracy: 0.628\n"
     ]
    },
    {
     "name": "stdout",
     "output_type": "stream",
     "text": [
      "Iteration 6985 -> Train Loss: 1.4563,Accuracy: 0.633\n"
     ]
    },
    {
     "name": "stdout",
     "output_type": "stream",
     "text": [
      "Iteration 7112 -> Train Loss: 1.4848,Accuracy: 0.636\n"
     ]
    },
    {
     "name": "stdout",
     "output_type": "stream",
     "text": [
      "Iteration 7239 -> Train Loss: 1.5226,Accuracy: 0.632\n"
     ]
    },
    {
     "name": "stdout",
     "output_type": "stream",
     "text": [
      "Iteration 7366 -> Train Loss: 1.4798,Accuracy: 0.641\n"
     ]
    },
    {
     "name": "stdout",
     "output_type": "stream",
     "text": [
      "Iteration 7493 -> Train Loss: 1.4722,Accuracy: 0.640\n"
     ]
    },
    {
     "name": "stdout",
     "output_type": "stream",
     "text": [
      "Iteration 7620 -> Train Loss: 1.4409,Accuracy: 0.638\n"
     ]
    },
    {
     "name": "stdout",
     "output_type": "stream",
     "text": [
      "Iteration 7747 -> Train Loss: 1.4574,Accuracy: 0.638\n"
     ]
    },
    {
     "name": "stdout",
     "output_type": "stream",
     "text": [
      "Iteration 7874 -> Train Loss: 1.4371,Accuracy: 0.644\n"
     ]
    },
    {
     "name": "stdout",
     "output_type": "stream",
     "text": [
      "Iteration 8001 -> Train Loss: 1.4746,Accuracy: 0.633\n"
     ]
    },
    {
     "name": "stdout",
     "output_type": "stream",
     "text": [
      "Iteration 8128 -> Train Loss: 1.4910,Accuracy: 0.643\n"
     ]
    },
    {
     "name": "stdout",
     "output_type": "stream",
     "text": [
      "Iteration 8255 -> Train Loss: 1.4367,Accuracy: 0.640\n"
     ]
    },
    {
     "name": "stdout",
     "output_type": "stream",
     "text": [
      "Iteration 8382 -> Train Loss: 1.4073,Accuracy: 0.651\n"
     ]
    },
    {
     "name": "stdout",
     "output_type": "stream",
     "text": [
      "Iteration 8509 -> Train Loss: 1.4884,Accuracy: 0.638\n"
     ]
    },
    {
     "name": "stdout",
     "output_type": "stream",
     "text": [
      "Iteration 8636 -> Train Loss: 1.4287,Accuracy: 0.641\n"
     ]
    },
    {
     "name": "stdout",
     "output_type": "stream",
     "text": [
      "Iteration 8763 -> Train Loss: 1.4447,Accuracy: 0.644\n"
     ]
    },
    {
     "name": "stdout",
     "output_type": "stream",
     "text": [
      "Iteration 8890 -> Train Loss: 1.4563,Accuracy: 0.654\n"
     ]
    },
    {
     "name": "stdout",
     "output_type": "stream",
     "text": [
      "Iteration 9017 -> Train Loss: 1.4578,Accuracy: 0.634\n"
     ]
    },
    {
     "name": "stdout",
     "output_type": "stream",
     "text": [
      "Iteration 9144 -> Train Loss: 1.4453,Accuracy: 0.643\n"
     ]
    },
    {
     "name": "stdout",
     "output_type": "stream",
     "text": [
      "Iteration 9271 -> Train Loss: 1.4810,Accuracy: 0.635\n"
     ]
    },
    {
     "name": "stdout",
     "output_type": "stream",
     "text": [
      "Iteration 9398 -> Train Loss: 1.4221,Accuracy: 0.651\n"
     ]
    },
    {
     "name": "stdout",
     "output_type": "stream",
     "text": [
      "Iteration 9525 -> Train Loss: 1.3994,Accuracy: 0.649\n"
     ]
    },
    {
     "name": "stdout",
     "output_type": "stream",
     "text": [
      "Iteration 9652 -> Train Loss: 1.3683,Accuracy: 0.663\n"
     ]
    },
    {
     "name": "stdout",
     "output_type": "stream",
     "text": [
      "Iteration 9779 -> Train Loss: 1.3854,Accuracy: 0.650\n"
     ]
    },
    {
     "name": "stdout",
     "output_type": "stream",
     "text": [
      "Iteration 9906 -> Train Loss: 1.4165,Accuracy: 0.646\n"
     ]
    },
    {
     "name": "stdout",
     "output_type": "stream",
     "text": [
      "Iteration 10033 -> Train Loss: 1.3662,Accuracy: 0.653\n"
     ]
    },
    {
     "name": "stdout",
     "output_type": "stream",
     "text": [
      "Iteration 10160 -> Train Loss: 1.3897,Accuracy: 0.653\n"
     ]
    },
    {
     "name": "stdout",
     "output_type": "stream",
     "text": [
      "Iteration 10287 -> Train Loss: 1.4323,Accuracy: 0.637\n"
     ]
    },
    {
     "name": "stdout",
     "output_type": "stream",
     "text": [
      "Iteration 10414 -> Train Loss: 1.3934,Accuracy: 0.651\n"
     ]
    },
    {
     "name": "stdout",
     "output_type": "stream",
     "text": [
      "Iteration 10541 -> Train Loss: 1.3831,Accuracy: 0.653\n"
     ]
    },
    {
     "name": "stdout",
     "output_type": "stream",
     "text": [
      "Iteration 10668 -> Train Loss: 1.4092,Accuracy: 0.653\n"
     ]
    },
    {
     "name": "stdout",
     "output_type": "stream",
     "text": [
      "Iteration 10795 -> Train Loss: 1.4348,Accuracy: 0.651\n"
     ]
    },
    {
     "name": "stdout",
     "output_type": "stream",
     "text": [
      "Iteration 10922 -> Train Loss: 1.4168,Accuracy: 0.652\n"
     ]
    },
    {
     "name": "stdout",
     "output_type": "stream",
     "text": [
      "Iteration 11049 -> Train Loss: 1.3855,Accuracy: 0.649\n"
     ]
    },
    {
     "name": "stdout",
     "output_type": "stream",
     "text": [
      "Iteration 11176 -> Train Loss: 1.3397,Accuracy: 0.660\n"
     ]
    },
    {
     "name": "stdout",
     "output_type": "stream",
     "text": [
      "Iteration 11303 -> Train Loss: 1.3685,Accuracy: 0.655\n"
     ]
    },
    {
     "name": "stdout",
     "output_type": "stream",
     "text": [
      "Iteration 11430 -> Train Loss: 1.4486,Accuracy: 0.646\n"
     ]
    },
    {
     "name": "stdout",
     "output_type": "stream",
     "text": [
      "Iteration 11557 -> Train Loss: 1.3630,Accuracy: 0.651\n"
     ]
    },
    {
     "name": "stdout",
     "output_type": "stream",
     "text": [
      "Iteration 11684 -> Train Loss: 1.3910,Accuracy: 0.649\n"
     ]
    },
    {
     "name": "stdout",
     "output_type": "stream",
     "text": [
      "Iteration 11811 -> Train Loss: 1.3942,Accuracy: 0.651\n"
     ]
    },
    {
     "name": "stdout",
     "output_type": "stream",
     "text": [
      "Iteration 11938 -> Train Loss: 1.3755,Accuracy: 0.667\n"
     ]
    },
    {
     "name": "stdout",
     "output_type": "stream",
     "text": [
      "Iteration 12065 -> Train Loss: 1.4457,Accuracy: 0.643\n"
     ]
    },
    {
     "name": "stdout",
     "output_type": "stream",
     "text": [
      "Iteration 12192 -> Train Loss: 1.3733,Accuracy: 0.660\n"
     ]
    },
    {
     "name": "stdout",
     "output_type": "stream",
     "text": [
      "Iteration 12319 -> Train Loss: 1.4130,Accuracy: 0.651\n"
     ]
    },
    {
     "name": "stdout",
     "output_type": "stream",
     "text": [
      "Iteration 12446 -> Train Loss: 1.3487,Accuracy: 0.676\n"
     ]
    },
    {
     "name": "stdout",
     "output_type": "stream",
     "text": [
      "Iteration 12573 -> Train Loss: 1.2615,Accuracy: 0.682\n"
     ]
    },
    {
     "name": "stdout",
     "output_type": "stream",
     "text": [
      "Iteration 12700 -> Train Loss: 1.2632,Accuracy: 0.680\n"
     ]
    },
    {
     "name": "stdout",
     "output_type": "stream",
     "text": [
      "Iteration 12827 -> Train Loss: 1.3050,Accuracy: 0.678\n"
     ]
    },
    {
     "name": "stdout",
     "output_type": "stream",
     "text": [
      "Iteration 12954 -> Train Loss: 1.2773,Accuracy: 0.681\n"
     ]
    },
    {
     "name": "stdout",
     "output_type": "stream",
     "text": [
      "Iteration 13081 -> Train Loss: 1.3498,Accuracy: 0.676\n"
     ]
    },
    {
     "name": "stdout",
     "output_type": "stream",
     "text": [
      "Iteration 13208 -> Train Loss: 1.2769,Accuracy: 0.674\n"
     ]
    },
    {
     "name": "stdout",
     "output_type": "stream",
     "text": [
      "Iteration 13335 -> Train Loss: 1.2462,Accuracy: 0.685\n"
     ]
    },
    {
     "name": "stdout",
     "output_type": "stream",
     "text": [
      "Iteration 13462 -> Train Loss: 1.2433,Accuracy: 0.684\n"
     ]
    },
    {
     "name": "stdout",
     "output_type": "stream",
     "text": [
      "Iteration 13589 -> Train Loss: 1.2946,Accuracy: 0.680\n"
     ]
    },
    {
     "name": "stdout",
     "output_type": "stream",
     "text": [
      "Iteration 13716 -> Train Loss: 1.2656,Accuracy: 0.684\n"
     ]
    },
    {
     "name": "stdout",
     "output_type": "stream",
     "text": [
      "Iteration 13843 -> Train Loss: 1.3565,Accuracy: 0.663\n"
     ]
    },
    {
     "name": "stdout",
     "output_type": "stream",
     "text": [
      "Iteration 13970 -> Train Loss: 1.2816,Accuracy: 0.675\n"
     ]
    },
    {
     "name": "stdout",
     "output_type": "stream",
     "text": [
      "Iteration 14097 -> Train Loss: 1.2540,Accuracy: 0.685\n"
     ]
    },
    {
     "name": "stdout",
     "output_type": "stream",
     "text": [
      "Iteration 14224 -> Train Loss: 1.2403,Accuracy: 0.677\n"
     ]
    },
    {
     "name": "stdout",
     "output_type": "stream",
     "text": [
      "Iteration 14351 -> Train Loss: 1.2561,Accuracy: 0.671\n"
     ]
    },
    {
     "name": "stdout",
     "output_type": "stream",
     "text": [
      "Iteration 14478 -> Train Loss: 1.3152,Accuracy: 0.671\n"
     ]
    }
   ],
   "source": [
    "epochs = 1\n",
    "lsize = len(loader)\n",
    "itr = 1\n",
    "p_itr = 127 # print every N iteration\n",
    "model.train()\n",
    "tot = 0\n",
    "acc = 0\n",
    "last = 0\n",
    "tloss, score = 0, 0\n",
    "for epoch in range(epochs):\n",
    "    for x, y in loader:\n",
    "        x, y = x.to(device), y.to(device)\n",
    "        optimizer.zero_grad()\n",
    "        output = model(x)\n",
    "        loss = criterion(output, y)\n",
    "        _,output = torch.max(output,1)\n",
    "        loss.backward()\n",
    "        optimizer.step()\n",
    "        tloss += loss.item()\n",
    "        last = acc\n",
    "        acc += (output == y).sum().item()\n",
    "        tot += y.size(0)\n",
    "        scheduler.step()\n",
    "        if itr%p_itr==0:\n",
    "            print('Iteration {} -> Train Loss: {:.4f},Accuracy: {:.3f}'.format(itr, tloss/p_itr,acc/tot))\n",
    "            if acc > loss:\n",
    "                loss = acc\n",
    "                torch.save(model.state_dict(), 'resnet50_best_'+str(loss) + '.pth')\n",
    "            tloss, tot,acc = 0, 0,0\n",
    "        itr +=1"
   ]
  },
  {
   "cell_type": "code",
   "execution_count": null,
   "id": "ec48f8f0",
   "metadata": {
    "execution": {
     "iopub.status.busy": "2024-11-06T10:29:18.701078Z",
     "iopub.status.idle": "2024-11-06T10:29:18.701466Z",
     "shell.execute_reply": "2024-11-06T10:29:18.701301Z",
     "shell.execute_reply.started": "2024-11-06T10:29:18.701281Z"
    },
    "papermill": {
     "duration": null,
     "end_time": null,
     "exception": null,
     "start_time": null,
     "status": "pending"
    },
    "tags": []
   },
   "outputs": [],
   "source": [
    "filename_pth='checkpoint_resnet50.pth'\n",
    "torch.save(model.state_dict(), filename_pth)"
   ]
  }
 ],
 "metadata": {
  "kaggle": {
   "accelerator": "gpu",
   "dataSources": [
    {
     "databundleVersionId": 868375,
     "sourceId": 10200,
     "sourceType": "competition"
    },
    {
     "datasetId": 6016855,
     "sourceId": 9814208,
     "sourceType": "datasetVersion"
    },
    {
     "isSourceIdPinned": true,
     "modelId": 165189,
     "modelInstanceId": 142610,
     "sourceId": 167636,
     "sourceType": "modelInstanceVersion"
    }
   ],
   "dockerImageVersionId": 30786,
   "isGpuEnabled": true,
   "isInternetEnabled": false,
   "language": "python",
   "sourceType": "notebook"
  },
  "kernelspec": {
   "display_name": "Python 3",
   "language": "python",
   "name": "python3"
  },
  "language_info": {
   "codemirror_mode": {
    "name": "ipython",
    "version": 3
   },
   "file_extension": ".py",
   "mimetype": "text/x-python",
   "name": "python",
   "nbconvert_exporter": "python",
   "pygments_lexer": "ipython3",
   "version": "3.10.14"
  },
  "papermill": {
   "default_parameters": {},
   "duration": null,
   "end_time": null,
   "environment_variables": {},
   "exception": null,
   "input_path": "__notebook__.ipynb",
   "output_path": "__notebook__.ipynb",
   "parameters": {},
   "start_time": "2024-11-16T09:44:49.948556",
   "version": "2.6.0"
  }
 },
 "nbformat": 4,
 "nbformat_minor": 5
}