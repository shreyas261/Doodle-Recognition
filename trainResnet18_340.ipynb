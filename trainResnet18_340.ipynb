{
 "cells": [
  {
   "cell_type": "code",
   "execution_count": 1,
   "id": "800d4789",
   "metadata": {
    "execution": {
     "iopub.execute_input": "2024-11-14T10:56:41.779763Z",
     "iopub.status.busy": "2024-11-14T10:56:41.779347Z",
     "iopub.status.idle": "2024-11-14T10:56:47.445420Z",
     "shell.execute_reply": "2024-11-14T10:56:47.444596Z"
    },
    "papermill": {
     "duration": 5.676695,
     "end_time": "2024-11-14T10:56:47.447817",
     "exception": false,
     "start_time": "2024-11-14T10:56:41.771122",
     "status": "completed"
    },
    "tags": []
   },
   "outputs": [],
   "source": [
    "import pandas as pd\n",
    "import numpy as np\n",
    "from matplotlib import pyplot as plt\n",
    "import ast\n",
    "import json\n",
    "from PIL import Image,ImageDraw,ImageDraw2\n",
    "import  io\n",
    "import torch\n",
    "import torch.nn as nn\n",
    "from torch.utils.data import Dataset, DataLoader, ConcatDataset\n",
    "import torchvision\n",
    "from torchvision import transforms, utils\n",
    "import torchvision.transforms as T\n",
    "import os\n",
    "import cv2\n",
    "import glob\n",
    "import time\n",
    "import tqdm\n",
    "import warnings\n",
    "warnings.filterwarnings(\"ignore\")\n",
    "\n",
    "\n",
    "%matplotlib inline\n",
    "%config InlineBackend.figure_format = 'retina'"
   ]
  },
  {
   "cell_type": "code",
   "execution_count": 2,
   "id": "8ea64104",
   "metadata": {
    "execution": {
     "iopub.execute_input": "2024-11-14T10:56:47.461580Z",
     "iopub.status.busy": "2024-11-14T10:56:47.461135Z",
     "iopub.status.idle": "2024-11-14T10:56:47.465211Z",
     "shell.execute_reply": "2024-11-14T10:56:47.464374Z"
    },
    "papermill": {
     "duration": 0.013023,
     "end_time": "2024-11-14T10:56:47.467238",
     "exception": false,
     "start_time": "2024-11-14T10:56:47.454215",
     "status": "completed"
    },
    "tags": []
   },
   "outputs": [],
   "source": [
    "en_dict = {}\n",
    "dec_dict = {}"
   ]
  },
  {
   "cell_type": "code",
   "execution_count": 3,
   "id": "075d7385",
   "metadata": {
    "execution": {
     "iopub.execute_input": "2024-11-14T10:56:47.480816Z",
     "iopub.status.busy": "2024-11-14T10:56:47.480526Z",
     "iopub.status.idle": "2024-11-14T10:56:47.504029Z",
     "shell.execute_reply": "2024-11-14T10:56:47.503139Z"
    },
    "papermill": {
     "duration": 0.032797,
     "end_time": "2024-11-14T10:56:47.506200",
     "exception": false,
     "start_time": "2024-11-14T10:56:47.473403",
     "status": "completed"
    },
    "tags": []
   },
   "outputs": [],
   "source": [
    "def encode_files(csv):\n",
    "    \"\"\" Encode all label by name of csv_files \"\"\"\n",
    "    counter = 0\n",
    "    for fn in csv:\n",
    "        en_dict[fn[:-4].split('/')[-1].replace(' ', '_')] = counter\n",
    "        counter += 1\n",
    "        \n",
    "\n",
    "def decode_labels(label):\n",
    "    return dec_dict[label]\n",
    "\n",
    "def get_label(nfile):\n",
    "    return en_dict[nfile.replace(' ', '_')[:-4]]\n",
    "\n",
    "def get_csv(path):\n",
    "    csv_files = []\n",
    "    for file in os.listdir(path):\n",
    "        if file.endswith('csv'):\n",
    "            csv_files.append(file)\n",
    "    return csv_files\n",
    "\n",
    "def strokes_to_arr_1Channel(arr):\n",
    "    arr = ast.literal_eval(arr)\n",
    "    x = [x_pnt for stroke in arr for x_pnt in stroke[0]]\n",
    "    y = [x_pnt for stroke in arr for x_pnt in stroke[1]]\n",
    "\n",
    "    plt.plot(x,y,color = 'black')\n",
    "    plt.axis('off')\n",
    "\n",
    "    buf = io.BytesIO()\n",
    "    plt.savefig(buf, format='png')\n",
    "    buf.seek(0)\n",
    "    plt.clf()\n",
    "    \n",
    "    image = np.array(Image.open(buf))\n",
    "    buf.close()\n",
    "    image = np.transpose(image, (2, 0, 1))\n",
    "    image = 0.2989*image[0] + 0.5870*image[1] + 0.1140*image[2]\n",
    "    image = np.ceil(image)\n",
    "    image = cv2.resize(image, (224, 224), interpolation=cv2.INTER_LINEAR)\n",
    "    return image\n",
    "\n",
    "\n",
    "def strokes_to_arr_3Channels(arr):\n",
    "    arr = ast.literal_eval(arr)\n",
    "    x = [x_pnt for stroke in arr for x_pnt in stroke[0]]\n",
    "    y = [x_pnt for stroke in arr for x_pnt in stroke[1]]\n",
    "\n",
    "    plt.plot(x,y,color = 'black')\n",
    "    plt.axis('off')\n",
    "\n",
    "    buf = io.BytesIO()\n",
    "    plt.savefig(buf, format='png')\n",
    "    buf.seek(0)\n",
    "    plt.clf()\n",
    "    \n",
    "    image = np.array(Image.open(buf))\n",
    "    buf.close()\n",
    "    image = np.transpose(image, (2, 0, 1))\n",
    "    image = np.asarray([image[0],image[1],image[2]])\n",
    "    return image\n",
    "\n",
    "def validation(lossf, scoref):\n",
    "    model.eval()\n",
    "    loss, score = 0, 0\n",
    "    vlen = len(valid_loader)\n",
    "    for x, y in valid_loader:\n",
    "        x, y = x.to(device), y.to(device)\n",
    "        output = model(x)\n",
    "        loss += lossf(output, y).item()\n",
    "        score += scoref(output, y)[0].item()\n",
    "    model.train()\n",
    "    return loss/vlen, score/vlen\n",
    "\n",
    "def accuracy(output, target, topk=(3,)):\n",
    "    \"\"\"Computes the accuracy over the k top predictions for the specified values of k\"\"\"\n",
    "    with torch.no_grad():\n",
    "        maxk = max(topk)\n",
    "        batch_size = target.size(0)\n",
    "\n",
    "        _, pred = output.topk(maxk, 1, True, True)\n",
    "        pred = pred.t()\n",
    "        correct = pred.eq(target.view(1, -1).expand_as(pred))\n",
    "\n",
    "        res = []\n",
    "        for k in topk:\n",
    "            correct_k = correct[:k].view(-1).float().sum(0, keepdim=True)\n",
    "            res.append(correct_k.mul_(100.0 / batch_size))\n",
    "        return res\n",
    "\n",
    "def mapk(output, target, k=3):\n",
    "    \"\"\"\n",
    "    Computes the mean average precision at k.\n",
    "    \n",
    "    Parameters\n",
    "    ----------\n",
    "    output (torch.Tensor): A Tensor of predicted elements.\n",
    "                           Shape: (N,C)  where C = number of classes, N = batch size\n",
    "    target (torch.int): A Tensor of elements that are to be predicted. \n",
    "                        Shape: (N) where each value is  0≤targets[i]≤C−1\n",
    "    k (int, optional): The maximum number of predicted elements\n",
    "    \n",
    "    Returns\n",
    "    -------\n",
    "    score (torch.float):  The mean average precision at k over the output\n",
    "    \"\"\"\n",
    "    with torch.no_grad():\n",
    "        batch_size = target.size(0)\n",
    "\n",
    "        _, pred = output.topk(k, 1, True, True)\n",
    "        pred = pred.t()\n",
    "        correct = pred.eq(target.view(1, -1).expand_as(pred))\n",
    "\n",
    "        for i in range(k):\n",
    "            correct[i] = correct[i]*(k-i)\n",
    "            \n",
    "        score = correct[:k].view(-1).float().sum(0, keepdim=True)\n",
    "        score.mul_(1.0 / (k * batch_size))\n",
    "        return score\n",
    "    \n",
    "def squeeze_weights(m):\n",
    "        m.weight.data = m.weight.data.sum(dim=1)[:,None]\n",
    "        m.in_channels = 1"
   ]
  },
  {
   "cell_type": "code",
   "execution_count": 4,
   "id": "70cbab52",
   "metadata": {
    "execution": {
     "iopub.execute_input": "2024-11-14T10:56:47.520760Z",
     "iopub.status.busy": "2024-11-14T10:56:47.520431Z",
     "iopub.status.idle": "2024-11-14T10:56:47.546146Z",
     "shell.execute_reply": "2024-11-14T10:56:47.545389Z"
    },
    "papermill": {
     "duration": 0.034639,
     "end_time": "2024-11-14T10:56:47.548072",
     "exception": false,
     "start_time": "2024-11-14T10:56:47.513433",
     "status": "completed"
    },
    "tags": []
   },
   "outputs": [],
   "source": [
    "csv = get_csv(\"/kaggle/input/train-doodle\")\n",
    "csv = sorted(csv)\n",
    "encode_files(csv)\n",
    "dec_dict = {v: k for k, v in en_dict.items()}"
   ]
  },
  {
   "cell_type": "code",
   "execution_count": null,
   "id": "57ef56d4",
   "metadata": {
    "papermill": {
     "duration": 0.00588,
     "end_time": "2024-11-14T10:56:47.559961",
     "exception": false,
     "start_time": "2024-11-14T10:56:47.554081",
     "status": "completed"
    },
    "tags": []
   },
   "outputs": [],
   "source": []
  },
  {
   "cell_type": "markdown",
   "id": "278dd4f9",
   "metadata": {
    "papermill": {
     "duration": 0.005771,
     "end_time": "2024-11-14T10:56:47.571675",
     "exception": false,
     "start_time": "2024-11-14T10:56:47.565904",
     "status": "completed"
    },
    "tags": []
   },
   "source": [
    "## CNN MODEL COMPUTE IS NOT ENOUGH TO TRAIN"
   ]
  },
  {
   "cell_type": "code",
   "execution_count": 5,
   "id": "823cc299",
   "metadata": {
    "execution": {
     "iopub.execute_input": "2024-11-14T10:56:47.586047Z",
     "iopub.status.busy": "2024-11-14T10:56:47.585154Z",
     "iopub.status.idle": "2024-11-14T10:56:47.591399Z",
     "shell.execute_reply": "2024-11-14T10:56:47.590521Z"
    },
    "papermill": {
     "duration": 0.015448,
     "end_time": "2024-11-14T10:56:47.593472",
     "exception": false,
     "start_time": "2024-11-14T10:56:47.578024",
     "status": "completed"
    },
    "tags": []
   },
   "outputs": [],
   "source": [
    "# class StrokeDataset(Dataset):\n",
    "#     def __init__(self, csv_dir, stroke_to_numpy_func, transform=None):\n",
    "#         self.csv_dir = csv_dir\n",
    "#         self.transform = transform\n",
    "#         self.stroke_to_numpy_func = stroke_to_numpy_func\n",
    "#         self.classes = os.listdir(csv_dir)\n",
    "#         self.filepaths = []\n",
    "#         self.labels = []\n",
    "        \n",
    "#         for idx, class_name in enumerate(self.classes):\n",
    "#             csv_file = os.path.join(csv_dir, class_name)\n",
    "#             df = pd.read_csv(csv_file)\n",
    "#             for stroke in df['drawing']:\n",
    "#                 self.filepaths.append(stroke)\n",
    "#                 self.labels.append(idx)\n",
    "    \n",
    "#     def __len__(self):\n",
    "#         return len(self.filepaths)\n",
    "    \n",
    "#     def __getitem__(self, idx):\n",
    "#         stroke = self.filepaths[idx]\n",
    "#         label = self.labels[idx]\n",
    "        \n",
    "#         # Convert stroke to numpy array and ensure it’s grayscale (224x224)\n",
    "#         image_np = self.stroke_to_numpy_func(stroke)  # Expected output: (224, 224) for grayscale\n",
    "        \n",
    "#         # Resize if needed and convert to tensor\n",
    "#         transform_resize = T.Resize((224, 224))\n",
    "#         image = transform_resize(torch.tensor(image_np).unsqueeze(0)).float()  # (1, 224, 224)\n",
    "\n",
    "#         if self.transform:\n",
    "#             image = self.transform(image)\n",
    "        \n",
    "#         return image, label\n",
    "\n",
    "# # Define a CNN model for grayscale input\n",
    "# class CNNModel(nn.Module):\n",
    "#     def __init__(self, num_classes):\n",
    "#         super(CNNModel, self).__init__()\n",
    "#         self.conv1 = nn.Conv2d(1, 32, kernel_size=3, stride=1, padding=1)  # Input channels changed to 1\n",
    "#         self.conv2 = nn.Conv2d(32, 64, kernel_size=3, stride=1, padding=1)\n",
    "#         self.pool = nn.MaxPool2d(kernel_size=2, stride=2, padding=0)\n",
    "#         self.fc1 = nn.Linear(64 * 56 * 56, 256)  # Adjusted for 224x224 input after pooling\n",
    "#         self.fc2 = nn.Linear(256, num_classes)\n",
    "    \n",
    "#     def forward(self, x):\n",
    "#         x = self.pool(torch.relu(self.conv1(x)))\n",
    "#         x = self.pool(torch.relu(self.conv2(x)))\n",
    "#         x = x.view(-1, 64 * 56 * 56)\n",
    "#         x = torch.relu(self.fc1(x))\n",
    "#         x = self.fc2(x)\n",
    "#         return x"
   ]
  },
  {
   "cell_type": "code",
   "execution_count": 6,
   "id": "b16a04b7",
   "metadata": {
    "execution": {
     "iopub.execute_input": "2024-11-14T10:56:47.606646Z",
     "iopub.status.busy": "2024-11-14T10:56:47.606337Z",
     "iopub.status.idle": "2024-11-14T10:56:47.669827Z",
     "shell.execute_reply": "2024-11-14T10:56:47.668736Z"
    },
    "papermill": {
     "duration": 0.072305,
     "end_time": "2024-11-14T10:56:47.671806",
     "exception": false,
     "start_time": "2024-11-14T10:56:47.599501",
     "status": "completed"
    },
    "tags": []
   },
   "outputs": [
    {
     "name": "stdout",
     "output_type": "stream",
     "text": [
      "Using device: cuda\n"
     ]
    }
   ],
   "source": [
    "device = torch.device(\"cuda\" if torch.cuda.is_available() else \"cpu\")\n",
    "print(f\"Using device: {device}\")"
   ]
  },
  {
   "cell_type": "code",
   "execution_count": 7,
   "id": "5d05324d",
   "metadata": {
    "execution": {
     "iopub.execute_input": "2024-11-14T10:56:47.685956Z",
     "iopub.status.busy": "2024-11-14T10:56:47.685631Z",
     "iopub.status.idle": "2024-11-14T10:56:47.689530Z",
     "shell.execute_reply": "2024-11-14T10:56:47.688706Z"
    },
    "papermill": {
     "duration": 0.012832,
     "end_time": "2024-11-14T10:56:47.691441",
     "exception": false,
     "start_time": "2024-11-14T10:56:47.678609",
     "status": "completed"
    },
    "tags": []
   },
   "outputs": [],
   "source": [
    "# num_classes = 89\n",
    "# batch_size = 64\n",
    "# learning_rate = 0.001\n",
    "# num_epochs = 10\n",
    "\n",
    "# dataset = StrokeDataset(csv_dir=\"/kaggle/input/train-doodle/\", stroke_to_numpy_func=strokes_to_arr)\n",
    "# dataloader = DataLoader(dataset, batch_size=batch_size, shuffle=True)"
   ]
  },
  {
   "cell_type": "code",
   "execution_count": 8,
   "id": "f7b6cb58",
   "metadata": {
    "execution": {
     "iopub.execute_input": "2024-11-14T10:56:47.705770Z",
     "iopub.status.busy": "2024-11-14T10:56:47.705167Z",
     "iopub.status.idle": "2024-11-14T10:56:47.709876Z",
     "shell.execute_reply": "2024-11-14T10:56:47.708910Z"
    },
    "papermill": {
     "duration": 0.013976,
     "end_time": "2024-11-14T10:56:47.711828",
     "exception": false,
     "start_time": "2024-11-14T10:56:47.697852",
     "status": "completed"
    },
    "tags": []
   },
   "outputs": [],
   "source": [
    "\n",
    "\n",
    "# model = CNNModel(num_classes=num_classes).to(device)\n",
    "# criterion = nn.CrossEntropyLoss()\n",
    "# optimizer = optim.Adam(model.parameters(), lr=learning_rate)\n",
    "\n",
    "\n",
    "# for epoch in range(num_epochs):\n",
    "#     running_loss = 0.0\n",
    "#     for images, labels in dataloader:\n",
    "#         images, labels = images.to(device), labels.to(device)\n",
    "#         optimizer.zero_grad()\n",
    "        \n",
    "#         outputs = model(images)\n",
    "#         loss = criterion(outputs, labels)\n",
    "\n",
    "#         loss.backward()\n",
    "#         optimizer.step()\n",
    "        \n",
    "#         running_loss += loss.item()\n",
    "    \n",
    "#     print(f\"Epoch [{epoch+1}/{num_epochs}], Loss: {running_loss/len(dataloader):.4f}\")\n",
    "\n",
    "# print(\"Training complete!\")"
   ]
  },
  {
   "cell_type": "code",
   "execution_count": 9,
   "id": "652848ad",
   "metadata": {
    "execution": {
     "iopub.execute_input": "2024-11-14T10:56:47.725960Z",
     "iopub.status.busy": "2024-11-14T10:56:47.725306Z",
     "iopub.status.idle": "2024-11-14T10:56:47.729313Z",
     "shell.execute_reply": "2024-11-14T10:56:47.728438Z"
    },
    "papermill": {
     "duration": 0.013108,
     "end_time": "2024-11-14T10:56:47.731271",
     "exception": false,
     "start_time": "2024-11-14T10:56:47.718163",
     "status": "completed"
    },
    "tags": []
   },
   "outputs": [],
   "source": [
    "# model_save_path = 'CNNmodel.pth'\n",
    "# torch.save(model.state_dict(), model_save_path)\n",
    "# print(f\"Model saved to {model_save_path}\")"
   ]
  },
  {
   "cell_type": "markdown",
   "id": "cfc9628e",
   "metadata": {
    "papermill": {
     "duration": 0.006486,
     "end_time": "2024-11-14T10:56:47.743795",
     "exception": false,
     "start_time": "2024-11-14T10:56:47.737309",
     "status": "completed"
    },
    "tags": []
   },
   "source": [
    "## TRYING RESNET50 AND RESNET 18"
   ]
  },
  {
   "cell_type": "code",
   "execution_count": 10,
   "id": "2090a532",
   "metadata": {
    "execution": {
     "iopub.execute_input": "2024-11-14T10:56:47.757979Z",
     "iopub.status.busy": "2024-11-14T10:56:47.757213Z",
     "iopub.status.idle": "2024-11-14T10:56:47.765663Z",
     "shell.execute_reply": "2024-11-14T10:56:47.764677Z"
    },
    "papermill": {
     "duration": 0.017556,
     "end_time": "2024-11-14T10:56:47.767593",
     "exception": false,
     "start_time": "2024-11-14T10:56:47.750037",
     "status": "completed"
    },
    "tags": []
   },
   "outputs": [],
   "source": [
    "class DoodleDataset(Dataset):\n",
    "    def __init__(self,csv,directory,function,mode,transform = None):\n",
    "        self.csv = csv\n",
    "        self.directory = directory\n",
    "        self.function = function\n",
    "        self.transform = transform\n",
    "        self.mode = mode \n",
    "        self.image = pd.read_csv(directory + csv,usecols = ['drawing'])\n",
    "        self.label = get_label(csv)\n",
    "                \n",
    "    def __len__(self):\n",
    "        return len(self.image)\n",
    "            \n",
    "    def __getitem__(self, idx):\n",
    "        image = self.function(self.image['drawing'][idx])\n",
    "        label = self.label\n",
    "    \n",
    "\n",
    "        # Resize if needed and convert to tensor\n",
    "        transform_resize = T.Resize((224, 224))\n",
    "        image = transform_resize(torch.tensor(image).unsqueeze(0)).float()  # (1, 224, 224)\n",
    "        image = image.repeat(3, 1, 1)\n",
    "        \n",
    "        if self.transform:\n",
    "            image = self.transform(image)\n",
    "        \n",
    "        if self.mode == 'train':\n",
    "            return image, label\n",
    "        return image"
   ]
  },
  {
   "cell_type": "code",
   "execution_count": 11,
   "id": "933c7908",
   "metadata": {
    "execution": {
     "iopub.execute_input": "2024-11-14T10:56:47.780794Z",
     "iopub.status.busy": "2024-11-14T10:56:47.780513Z",
     "iopub.status.idle": "2024-11-14T10:56:47.785663Z",
     "shell.execute_reply": "2024-11-14T10:56:47.784937Z"
    },
    "papermill": {
     "duration": 0.014039,
     "end_time": "2024-11-14T10:56:47.787651",
     "exception": false,
     "start_time": "2024-11-14T10:56:47.773612",
     "status": "completed"
    },
    "tags": []
   },
   "outputs": [],
   "source": [
    "path = \"/kaggle/input/train-doodle/\"\n",
    "csv = get_csv(path)\n"
   ]
  },
  {
   "cell_type": "code",
   "execution_count": 12,
   "id": "0fd8917c",
   "metadata": {
    "execution": {
     "iopub.execute_input": "2024-11-14T10:56:47.800869Z",
     "iopub.status.busy": "2024-11-14T10:56:47.800592Z",
     "iopub.status.idle": "2024-11-14T10:56:49.051366Z",
     "shell.execute_reply": "2024-11-14T10:56:49.050437Z"
    },
    "papermill": {
     "duration": 1.260361,
     "end_time": "2024-11-14T10:56:49.054154",
     "exception": false,
     "start_time": "2024-11-14T10:56:47.793793",
     "status": "completed"
    },
    "tags": []
   },
   "outputs": [
    {
     "name": "stderr",
     "output_type": "stream",
     "text": [
      "Downloading: \"https://download.pytorch.org/models/resnet50-0676ba61.pth\" to /root/.cache/torch/hub/checkpoints/resnet50-0676ba61.pth\n"
     ]
    },
    {
     "name": "stderr",
     "output_type": "stream",
     "text": [
      "\r",
      "  0%|          | 0.00/97.8M [00:00<?, ?B/s]"
     ]
    },
    {
     "name": "stderr",
     "output_type": "stream",
     "text": [
      "\r",
      "  1%|▏         | 1.38M/97.8M [00:00<00:07, 14.2MB/s]"
     ]
    },
    {
     "name": "stderr",
     "output_type": "stream",
     "text": [
      "\r",
      "  9%|▉         | 9.12M/97.8M [00:00<00:01, 53.4MB/s]"
     ]
    },
    {
     "name": "stderr",
     "output_type": "stream",
     "text": [
      "\r",
      " 30%|██▉       | 28.9M/97.8M [00:00<00:00, 123MB/s] "
     ]
    },
    {
     "name": "stderr",
     "output_type": "stream",
     "text": [
      "\r",
      " 52%|█████▏    | 51.2M/97.8M [00:00<00:00, 167MB/s]"
     ]
    },
    {
     "name": "stderr",
     "output_type": "stream",
     "text": [
      "\r",
      " 75%|███████▌  | 73.5M/97.8M [00:00<00:00, 191MB/s]"
     ]
    },
    {
     "name": "stderr",
     "output_type": "stream",
     "text": [
      "\r",
      " 98%|█████████▊| 95.9M/97.8M [00:00<00:00, 205MB/s]"
     ]
    },
    {
     "name": "stderr",
     "output_type": "stream",
     "text": [
      "\r",
      "100%|██████████| 97.8M/97.8M [00:00<00:00, 167MB/s]"
     ]
    },
    {
     "name": "stderr",
     "output_type": "stream",
     "text": [
      "\n"
     ]
    }
   ],
   "source": [
    "model = torchvision.models.resnet50(pretrained=True)"
   ]
  },
  {
   "cell_type": "code",
   "execution_count": 13,
   "id": "732b0fef",
   "metadata": {
    "execution": {
     "iopub.execute_input": "2024-11-14T10:56:49.071255Z",
     "iopub.status.busy": "2024-11-14T10:56:49.070885Z",
     "iopub.status.idle": "2024-11-14T10:56:49.076265Z",
     "shell.execute_reply": "2024-11-14T10:56:49.075373Z"
    },
    "papermill": {
     "duration": 0.015504,
     "end_time": "2024-11-14T10:56:49.078192",
     "exception": false,
     "start_time": "2024-11-14T10:56:49.062688",
     "status": "completed"
    },
    "tags": []
   },
   "outputs": [],
   "source": [
    "for param in model.parameters():\n",
    "    if isinstance(param, nn.Conv2d):\n",
    "        param.requires_grad = False"
   ]
  },
  {
   "cell_type": "code",
   "execution_count": 14,
   "id": "ce9f4203",
   "metadata": {
    "execution": {
     "iopub.execute_input": "2024-11-14T10:56:49.093108Z",
     "iopub.status.busy": "2024-11-14T10:56:49.092786Z",
     "iopub.status.idle": "2024-11-14T10:56:49.102105Z",
     "shell.execute_reply": "2024-11-14T10:56:49.101364Z"
    },
    "papermill": {
     "duration": 0.019033,
     "end_time": "2024-11-14T10:56:49.104076",
     "exception": false,
     "start_time": "2024-11-14T10:56:49.085043",
     "status": "completed"
    },
    "tags": []
   },
   "outputs": [],
   "source": [
    "num_classes = 89\n",
    "model.fc = nn.Linear(model.fc.in_features, out_features=num_classes, bias=True)\n",
    "criterion = nn.CrossEntropyLoss()\n",
    "optimizer = torch.optim.Adam(model.parameters(), lr=0.0002, amsgrad=True)\n",
    "scheduler = torch.optim.lr_scheduler.MultiStepLR(optimizer, milestones=[5000,12000,18000], gamma=0.5)"
   ]
  },
  {
   "cell_type": "code",
   "execution_count": 15,
   "id": "990b3a0c",
   "metadata": {
    "execution": {
     "iopub.execute_input": "2024-11-14T10:56:49.118702Z",
     "iopub.status.busy": "2024-11-14T10:56:49.118421Z",
     "iopub.status.idle": "2024-11-14T10:58:29.805809Z",
     "shell.execute_reply": "2024-11-14T10:58:29.805023Z"
    },
    "papermill": {
     "duration": 100.697442,
     "end_time": "2024-11-14T10:58:29.808275",
     "exception": false,
     "start_time": "2024-11-14T10:56:49.110833",
     "status": "completed"
    },
    "tags": []
   },
   "outputs": [],
   "source": [
    "dataset = ConcatDataset([DoodleDataset(c,path,strokes_to_arr_1Channel,'train',None) for c in csv])\n",
    "loader = DataLoader(dataset, batch_size=32, shuffle=True, num_workers=0)"
   ]
  },
  {
   "cell_type": "code",
   "execution_count": 16,
   "id": "f6359c1b",
   "metadata": {
    "execution": {
     "iopub.execute_input": "2024-11-14T10:58:29.823644Z",
     "iopub.status.busy": "2024-11-14T10:58:29.823117Z",
     "iopub.status.idle": "2024-11-14T10:58:30.015376Z",
     "shell.execute_reply": "2024-11-14T10:58:30.014092Z"
    },
    "papermill": {
     "duration": 0.201999,
     "end_time": "2024-11-14T10:58:30.017394",
     "exception": false,
     "start_time": "2024-11-14T10:58:29.815395",
     "status": "completed"
    },
    "tags": []
   },
   "outputs": [
    {
     "name": "stdout",
     "output_type": "stream",
     "text": [
      "Using device: cuda\n"
     ]
    }
   ],
   "source": [
    "device = torch.device(\"cuda\" if torch.cuda.is_available() else \"cpu\")\n",
    "print(f\"Using device: {device}\")\n",
    "model.to(device);"
   ]
  },
  {
   "cell_type": "code",
   "execution_count": 17,
   "id": "c188b868",
   "metadata": {
    "execution": {
     "iopub.execute_input": "2024-11-14T10:58:30.032755Z",
     "iopub.status.busy": "2024-11-14T10:58:30.032427Z"
    },
    "papermill": {
     "duration": null,
     "end_time": null,
     "exception": false,
     "start_time": "2024-11-14T10:58:30.024561",
     "status": "running"
    },
    "tags": []
   },
   "outputs": [
    {
     "name": "stdout",
     "output_type": "stream",
     "text": [
      "Iteration 127 -> Train Loss: 2.9796,Accuracy: 0.319\n"
     ]
    },
    {
     "name": "stdout",
     "output_type": "stream",
     "text": [
      "Iteration 254 -> Train Loss: 1.8030,Accuracy: 0.557\n"
     ]
    },
    {
     "name": "stdout",
     "output_type": "stream",
     "text": [
      "Iteration 381 -> Train Loss: 1.5255,Accuracy: 0.607\n"
     ]
    },
    {
     "name": "stdout",
     "output_type": "stream",
     "text": [
      "Iteration 508 -> Train Loss: 1.4022,Accuracy: 0.631\n"
     ]
    },
    {
     "name": "stdout",
     "output_type": "stream",
     "text": [
      "Iteration 635 -> Train Loss: 1.2942,Accuracy: 0.655\n"
     ]
    },
    {
     "name": "stdout",
     "output_type": "stream",
     "text": [
      "Iteration 762 -> Train Loss: 1.2205,Accuracy: 0.679\n"
     ]
    },
    {
     "name": "stdout",
     "output_type": "stream",
     "text": [
      "Iteration 889 -> Train Loss: 1.1753,Accuracy: 0.696\n"
     ]
    },
    {
     "name": "stdout",
     "output_type": "stream",
     "text": [
      "Iteration 1016 -> Train Loss: 1.2124,Accuracy: 0.685\n"
     ]
    },
    {
     "name": "stdout",
     "output_type": "stream",
     "text": [
      "Iteration 1143 -> Train Loss: 1.1247,Accuracy: 0.704\n"
     ]
    },
    {
     "name": "stdout",
     "output_type": "stream",
     "text": [
      "Iteration 1270 -> Train Loss: 1.0414,Accuracy: 0.724\n"
     ]
    },
    {
     "name": "stdout",
     "output_type": "stream",
     "text": [
      "Iteration 1397 -> Train Loss: 1.0584,Accuracy: 0.725\n"
     ]
    },
    {
     "name": "stdout",
     "output_type": "stream",
     "text": [
      "Iteration 1524 -> Train Loss: 1.0231,Accuracy: 0.728\n"
     ]
    },
    {
     "name": "stdout",
     "output_type": "stream",
     "text": [
      "Iteration 1651 -> Train Loss: 0.9984,Accuracy: 0.740\n"
     ]
    },
    {
     "name": "stdout",
     "output_type": "stream",
     "text": [
      "Iteration 1778 -> Train Loss: 0.9732,Accuracy: 0.739\n"
     ]
    },
    {
     "name": "stdout",
     "output_type": "stream",
     "text": [
      "Iteration 1905 -> Train Loss: 0.9911,Accuracy: 0.736\n"
     ]
    },
    {
     "name": "stdout",
     "output_type": "stream",
     "text": [
      "Iteration 2032 -> Train Loss: 0.9368,Accuracy: 0.756\n"
     ]
    },
    {
     "name": "stdout",
     "output_type": "stream",
     "text": [
      "Iteration 2159 -> Train Loss: 0.9792,Accuracy: 0.742\n"
     ]
    },
    {
     "name": "stdout",
     "output_type": "stream",
     "text": [
      "Iteration 2286 -> Train Loss: 0.9663,Accuracy: 0.741\n"
     ]
    },
    {
     "name": "stdout",
     "output_type": "stream",
     "text": [
      "Iteration 2413 -> Train Loss: 0.8892,Accuracy: 0.756\n"
     ]
    },
    {
     "name": "stdout",
     "output_type": "stream",
     "text": [
      "Iteration 2540 -> Train Loss: 0.9157,Accuracy: 0.759\n"
     ]
    },
    {
     "name": "stdout",
     "output_type": "stream",
     "text": [
      "Iteration 2667 -> Train Loss: 0.9326,Accuracy: 0.754\n"
     ]
    },
    {
     "name": "stdout",
     "output_type": "stream",
     "text": [
      "Iteration 2794 -> Train Loss: 0.8789,Accuracy: 0.773\n"
     ]
    },
    {
     "name": "stdout",
     "output_type": "stream",
     "text": [
      "Iteration 2921 -> Train Loss: 0.8635,Accuracy: 0.775\n"
     ]
    },
    {
     "name": "stdout",
     "output_type": "stream",
     "text": [
      "Iteration 3048 -> Train Loss: 0.8923,Accuracy: 0.769\n"
     ]
    },
    {
     "name": "stdout",
     "output_type": "stream",
     "text": [
      "Iteration 3175 -> Train Loss: 0.8773,Accuracy: 0.766\n"
     ]
    },
    {
     "name": "stdout",
     "output_type": "stream",
     "text": [
      "Iteration 3302 -> Train Loss: 0.8517,Accuracy: 0.771\n"
     ]
    },
    {
     "name": "stdout",
     "output_type": "stream",
     "text": [
      "Iteration 3429 -> Train Loss: 0.8386,Accuracy: 0.769\n"
     ]
    },
    {
     "name": "stdout",
     "output_type": "stream",
     "text": [
      "Iteration 3556 -> Train Loss: 0.7924,Accuracy: 0.792\n"
     ]
    },
    {
     "name": "stdout",
     "output_type": "stream",
     "text": [
      "Iteration 3683 -> Train Loss: 0.8460,Accuracy: 0.777\n"
     ]
    },
    {
     "name": "stdout",
     "output_type": "stream",
     "text": [
      "Iteration 3810 -> Train Loss: 0.8781,Accuracy: 0.765\n"
     ]
    },
    {
     "name": "stdout",
     "output_type": "stream",
     "text": [
      "Iteration 3937 -> Train Loss: 0.8004,Accuracy: 0.782\n"
     ]
    },
    {
     "name": "stdout",
     "output_type": "stream",
     "text": [
      "Iteration 4064 -> Train Loss: 0.8179,Accuracy: 0.783\n"
     ]
    },
    {
     "name": "stdout",
     "output_type": "stream",
     "text": [
      "Iteration 4191 -> Train Loss: 0.8087,Accuracy: 0.789\n"
     ]
    },
    {
     "name": "stdout",
     "output_type": "stream",
     "text": [
      "Iteration 4318 -> Train Loss: 0.7850,Accuracy: 0.788\n"
     ]
    },
    {
     "name": "stdout",
     "output_type": "stream",
     "text": [
      "Iteration 4445 -> Train Loss: 0.8340,Accuracy: 0.778\n"
     ]
    },
    {
     "name": "stdout",
     "output_type": "stream",
     "text": [
      "Iteration 4572 -> Train Loss: 0.8016,Accuracy: 0.790\n"
     ]
    },
    {
     "name": "stdout",
     "output_type": "stream",
     "text": [
      "Iteration 4699 -> Train Loss: 0.7964,Accuracy: 0.795\n"
     ]
    },
    {
     "name": "stdout",
     "output_type": "stream",
     "text": [
      "Iteration 4826 -> Train Loss: 0.8062,Accuracy: 0.783\n"
     ]
    },
    {
     "name": "stdout",
     "output_type": "stream",
     "text": [
      "Iteration 4953 -> Train Loss: 0.7995,Accuracy: 0.784\n"
     ]
    },
    {
     "name": "stdout",
     "output_type": "stream",
     "text": [
      "Iteration 5080 -> Train Loss: 0.7369,Accuracy: 0.804\n"
     ]
    },
    {
     "name": "stdout",
     "output_type": "stream",
     "text": [
      "Iteration 5207 -> Train Loss: 0.6655,Accuracy: 0.824\n"
     ]
    },
    {
     "name": "stdout",
     "output_type": "stream",
     "text": [
      "Iteration 5334 -> Train Loss: 0.6698,Accuracy: 0.824\n"
     ]
    },
    {
     "name": "stdout",
     "output_type": "stream",
     "text": [
      "Iteration 5461 -> Train Loss: 0.6564,Accuracy: 0.827\n"
     ]
    },
    {
     "name": "stdout",
     "output_type": "stream",
     "text": [
      "Iteration 5588 -> Train Loss: 0.6248,Accuracy: 0.829\n"
     ]
    },
    {
     "name": "stdout",
     "output_type": "stream",
     "text": [
      "Iteration 5715 -> Train Loss: 0.6260,Accuracy: 0.829\n"
     ]
    },
    {
     "name": "stdout",
     "output_type": "stream",
     "text": [
      "Iteration 5842 -> Train Loss: 0.6514,Accuracy: 0.829\n"
     ]
    },
    {
     "name": "stdout",
     "output_type": "stream",
     "text": [
      "Iteration 5969 -> Train Loss: 0.6559,Accuracy: 0.825\n"
     ]
    },
    {
     "name": "stdout",
     "output_type": "stream",
     "text": [
      "Iteration 6096 -> Train Loss: 0.6784,Accuracy: 0.817\n"
     ]
    },
    {
     "name": "stdout",
     "output_type": "stream",
     "text": [
      "Iteration 6223 -> Train Loss: 0.6369,Accuracy: 0.834\n"
     ]
    },
    {
     "name": "stdout",
     "output_type": "stream",
     "text": [
      "Iteration 6350 -> Train Loss: 0.6801,Accuracy: 0.816\n"
     ]
    },
    {
     "name": "stdout",
     "output_type": "stream",
     "text": [
      "Iteration 6477 -> Train Loss: 0.6334,Accuracy: 0.832\n"
     ]
    },
    {
     "name": "stdout",
     "output_type": "stream",
     "text": [
      "Iteration 6604 -> Train Loss: 0.6362,Accuracy: 0.835\n"
     ]
    },
    {
     "name": "stdout",
     "output_type": "stream",
     "text": [
      "Iteration 6731 -> Train Loss: 0.6707,Accuracy: 0.822\n"
     ]
    },
    {
     "name": "stdout",
     "output_type": "stream",
     "text": [
      "Iteration 6858 -> Train Loss: 0.6649,Accuracy: 0.829\n"
     ]
    },
    {
     "name": "stdout",
     "output_type": "stream",
     "text": [
      "Iteration 6985 -> Train Loss: 0.6056,Accuracy: 0.843\n"
     ]
    },
    {
     "name": "stdout",
     "output_type": "stream",
     "text": [
      "Iteration 7112 -> Train Loss: 0.6043,Accuracy: 0.840\n"
     ]
    },
    {
     "name": "stdout",
     "output_type": "stream",
     "text": [
      "Iteration 7239 -> Train Loss: 0.5986,Accuracy: 0.841\n"
     ]
    },
    {
     "name": "stdout",
     "output_type": "stream",
     "text": [
      "Iteration 7366 -> Train Loss: 0.6062,Accuracy: 0.838\n"
     ]
    },
    {
     "name": "stdout",
     "output_type": "stream",
     "text": [
      "Iteration 7493 -> Train Loss: 0.6478,Accuracy: 0.830\n"
     ]
    },
    {
     "name": "stdout",
     "output_type": "stream",
     "text": [
      "Iteration 7620 -> Train Loss: 0.6341,Accuracy: 0.839\n"
     ]
    },
    {
     "name": "stdout",
     "output_type": "stream",
     "text": [
      "Iteration 7747 -> Train Loss: 0.6152,Accuracy: 0.842\n"
     ]
    },
    {
     "name": "stdout",
     "output_type": "stream",
     "text": [
      "Iteration 7874 -> Train Loss: 0.6436,Accuracy: 0.838\n"
     ]
    },
    {
     "name": "stdout",
     "output_type": "stream",
     "text": [
      "Iteration 8001 -> Train Loss: 0.6014,Accuracy: 0.846\n"
     ]
    },
    {
     "name": "stdout",
     "output_type": "stream",
     "text": [
      "Iteration 8128 -> Train Loss: 0.6156,Accuracy: 0.838\n"
     ]
    },
    {
     "name": "stdout",
     "output_type": "stream",
     "text": [
      "Iteration 8255 -> Train Loss: 0.6288,Accuracy: 0.826\n"
     ]
    },
    {
     "name": "stdout",
     "output_type": "stream",
     "text": [
      "Iteration 8382 -> Train Loss: 0.6203,Accuracy: 0.840\n"
     ]
    },
    {
     "name": "stdout",
     "output_type": "stream",
     "text": [
      "Iteration 8509 -> Train Loss: 0.5876,Accuracy: 0.839\n"
     ]
    },
    {
     "name": "stdout",
     "output_type": "stream",
     "text": [
      "Iteration 8636 -> Train Loss: 0.6270,Accuracy: 0.837\n"
     ]
    },
    {
     "name": "stdout",
     "output_type": "stream",
     "text": [
      "Iteration 8763 -> Train Loss: 0.6230,Accuracy: 0.842\n"
     ]
    },
    {
     "name": "stdout",
     "output_type": "stream",
     "text": [
      "Iteration 8890 -> Train Loss: 0.6020,Accuracy: 0.843\n"
     ]
    },
    {
     "name": "stdout",
     "output_type": "stream",
     "text": [
      "Iteration 9017 -> Train Loss: 0.5970,Accuracy: 0.840\n"
     ]
    },
    {
     "name": "stdout",
     "output_type": "stream",
     "text": [
      "Iteration 9144 -> Train Loss: 0.6049,Accuracy: 0.845\n"
     ]
    },
    {
     "name": "stdout",
     "output_type": "stream",
     "text": [
      "Iteration 9271 -> Train Loss: 0.5873,Accuracy: 0.845\n"
     ]
    },
    {
     "name": "stdout",
     "output_type": "stream",
     "text": [
      "Iteration 9398 -> Train Loss: 0.6076,Accuracy: 0.834\n"
     ]
    },
    {
     "name": "stdout",
     "output_type": "stream",
     "text": [
      "Iteration 9525 -> Train Loss: 0.5874,Accuracy: 0.847\n"
     ]
    },
    {
     "name": "stdout",
     "output_type": "stream",
     "text": [
      "Iteration 9652 -> Train Loss: 0.6160,Accuracy: 0.832\n"
     ]
    },
    {
     "name": "stdout",
     "output_type": "stream",
     "text": [
      "Iteration 9779 -> Train Loss: 0.5546,Accuracy: 0.859\n"
     ]
    },
    {
     "name": "stdout",
     "output_type": "stream",
     "text": [
      "Iteration 9906 -> Train Loss: 0.5691,Accuracy: 0.853\n"
     ]
    },
    {
     "name": "stdout",
     "output_type": "stream",
     "text": [
      "Iteration 10033 -> Train Loss: 0.5936,Accuracy: 0.838\n"
     ]
    },
    {
     "name": "stdout",
     "output_type": "stream",
     "text": [
      "Iteration 10160 -> Train Loss: 0.6189,Accuracy: 0.836\n"
     ]
    },
    {
     "name": "stdout",
     "output_type": "stream",
     "text": [
      "Iteration 10287 -> Train Loss: 0.5803,Accuracy: 0.848\n"
     ]
    },
    {
     "name": "stdout",
     "output_type": "stream",
     "text": [
      "Iteration 10414 -> Train Loss: 0.5682,Accuracy: 0.848\n"
     ]
    },
    {
     "name": "stdout",
     "output_type": "stream",
     "text": [
      "Iteration 10541 -> Train Loss: 0.5793,Accuracy: 0.849\n"
     ]
    },
    {
     "name": "stdout",
     "output_type": "stream",
     "text": [
      "Iteration 10668 -> Train Loss: 0.5752,Accuracy: 0.846\n"
     ]
    },
    {
     "name": "stdout",
     "output_type": "stream",
     "text": [
      "Iteration 10795 -> Train Loss: 0.5969,Accuracy: 0.844\n"
     ]
    },
    {
     "name": "stdout",
     "output_type": "stream",
     "text": [
      "Iteration 10922 -> Train Loss: 0.6199,Accuracy: 0.837\n"
     ]
    },
    {
     "name": "stdout",
     "output_type": "stream",
     "text": [
      "Iteration 11049 -> Train Loss: 0.5726,Accuracy: 0.847\n"
     ]
    },
    {
     "name": "stdout",
     "output_type": "stream",
     "text": [
      "Iteration 11176 -> Train Loss: 0.5891,Accuracy: 0.852\n"
     ]
    },
    {
     "name": "stdout",
     "output_type": "stream",
     "text": [
      "Iteration 11303 -> Train Loss: 0.5535,Accuracy: 0.851\n"
     ]
    },
    {
     "name": "stdout",
     "output_type": "stream",
     "text": [
      "Iteration 11430 -> Train Loss: 0.5937,Accuracy: 0.845\n"
     ]
    },
    {
     "name": "stdout",
     "output_type": "stream",
     "text": [
      "Iteration 11557 -> Train Loss: 0.6012,Accuracy: 0.849\n"
     ]
    },
    {
     "name": "stdout",
     "output_type": "stream",
     "text": [
      "Iteration 11684 -> Train Loss: 0.5491,Accuracy: 0.854\n"
     ]
    },
    {
     "name": "stdout",
     "output_type": "stream",
     "text": [
      "Iteration 11811 -> Train Loss: 0.5952,Accuracy: 0.841\n"
     ]
    },
    {
     "name": "stdout",
     "output_type": "stream",
     "text": [
      "Iteration 11938 -> Train Loss: 0.5607,Accuracy: 0.846\n"
     ]
    },
    {
     "name": "stdout",
     "output_type": "stream",
     "text": [
      "Iteration 12065 -> Train Loss: 0.5366,Accuracy: 0.854\n"
     ]
    },
    {
     "name": "stdout",
     "output_type": "stream",
     "text": [
      "Iteration 12192 -> Train Loss: 0.5201,Accuracy: 0.863\n"
     ]
    },
    {
     "name": "stdout",
     "output_type": "stream",
     "text": [
      "Iteration 12319 -> Train Loss: 0.4629,Accuracy: 0.876\n"
     ]
    },
    {
     "name": "stdout",
     "output_type": "stream",
     "text": [
      "Iteration 12446 -> Train Loss: 0.5417,Accuracy: 0.861\n"
     ]
    },
    {
     "name": "stdout",
     "output_type": "stream",
     "text": [
      "Iteration 12573 -> Train Loss: 0.5267,Accuracy: 0.865\n"
     ]
    },
    {
     "name": "stdout",
     "output_type": "stream",
     "text": [
      "Iteration 12700 -> Train Loss: 0.5314,Accuracy: 0.858\n"
     ]
    },
    {
     "name": "stdout",
     "output_type": "stream",
     "text": [
      "Iteration 12827 -> Train Loss: 0.5366,Accuracy: 0.859\n"
     ]
    },
    {
     "name": "stdout",
     "output_type": "stream",
     "text": [
      "Iteration 12954 -> Train Loss: 0.5213,Accuracy: 0.862\n"
     ]
    },
    {
     "name": "stdout",
     "output_type": "stream",
     "text": [
      "Iteration 13081 -> Train Loss: 0.5245,Accuracy: 0.859\n"
     ]
    },
    {
     "name": "stdout",
     "output_type": "stream",
     "text": [
      "Iteration 13208 -> Train Loss: 0.5258,Accuracy: 0.861\n"
     ]
    },
    {
     "name": "stdout",
     "output_type": "stream",
     "text": [
      "Iteration 13335 -> Train Loss: 0.5235,Accuracy: 0.864\n"
     ]
    },
    {
     "name": "stdout",
     "output_type": "stream",
     "text": [
      "Iteration 13462 -> Train Loss: 0.4724,Accuracy: 0.871\n"
     ]
    },
    {
     "name": "stdout",
     "output_type": "stream",
     "text": [
      "Iteration 13589 -> Train Loss: 0.5213,Accuracy: 0.863\n"
     ]
    },
    {
     "name": "stdout",
     "output_type": "stream",
     "text": [
      "Iteration 13716 -> Train Loss: 0.5199,Accuracy: 0.864\n"
     ]
    },
    {
     "name": "stdout",
     "output_type": "stream",
     "text": [
      "Iteration 13843 -> Train Loss: 0.4666,Accuracy: 0.878\n"
     ]
    },
    {
     "name": "stdout",
     "output_type": "stream",
     "text": [
      "Iteration 13970 -> Train Loss: 0.5049,Accuracy: 0.862\n"
     ]
    },
    {
     "name": "stdout",
     "output_type": "stream",
     "text": [
      "Iteration 14097 -> Train Loss: 0.4945,Accuracy: 0.866\n"
     ]
    },
    {
     "name": "stdout",
     "output_type": "stream",
     "text": [
      "Iteration 14224 -> Train Loss: 0.5105,Accuracy: 0.865\n"
     ]
    },
    {
     "name": "stdout",
     "output_type": "stream",
     "text": [
      "Iteration 14351 -> Train Loss: 0.5182,Accuracy: 0.863\n"
     ]
    },
    {
     "name": "stdout",
     "output_type": "stream",
     "text": [
      "Iteration 14478 -> Train Loss: 0.5283,Accuracy: 0.867\n"
     ]
    },
    {
     "name": "stdout",
     "output_type": "stream",
     "text": [
      "Iteration 14605 -> Train Loss: 0.5273,Accuracy: 0.856\n"
     ]
    },
    {
     "name": "stdout",
     "output_type": "stream",
     "text": [
      "Iteration 14732 -> Train Loss: 0.5019,Accuracy: 0.863\n"
     ]
    }
   ],
   "source": [
    "epochs = 1\n",
    "lsize = len(loader)\n",
    "itr = 1\n",
    "p_itr = 127 # print every N iteration\n",
    "model.train()\n",
    "tot = 0\n",
    "acc = 0\n",
    "tloss, score = 0, 0\n",
    "for epoch in range(epochs):\n",
    "    for x, y in loader:\n",
    "        x, y = x.to(device), y.to(device)\n",
    "        optimizer.zero_grad()\n",
    "        output = model(x)\n",
    "        loss = criterion(output, y)\n",
    "        _,output = torch.max(output,1)\n",
    "        loss.backward()\n",
    "        optimizer.step()\n",
    "        tloss += loss.item()\n",
    "        acc += (output == y).sum().item()\n",
    "        tot += y.size(0)\n",
    "        scheduler.step()\n",
    "        if itr%p_itr==0:\n",
    "            print('Iteration {} -> Train Loss: {:.4f},Accuracy: {:.3f}'.format(itr, tloss/p_itr,acc/tot))\n",
    "            tloss, tot,acc = 0, 0,0\n",
    "        itr +=1"
   ]
  },
  {
   "cell_type": "code",
   "execution_count": null,
   "id": "f8f47d16",
   "metadata": {
    "execution": {
     "iopub.status.busy": "2024-11-06T10:29:18.701078Z",
     "iopub.status.idle": "2024-11-06T10:29:18.701466Z",
     "shell.execute_reply": "2024-11-06T10:29:18.701301Z",
     "shell.execute_reply.started": "2024-11-06T10:29:18.701281Z"
    },
    "papermill": {
     "duration": null,
     "end_time": null,
     "exception": null,
     "start_time": null,
     "status": "pending"
    },
    "tags": []
   },
   "outputs": [],
   "source": [
    "filename_pth='checkpoint_resnet50.pth'\n",
    "torch.save(model2.state_dict(), filename_pth)"
   ]
  }
 ],
 "metadata": {
  "kaggle": {
   "accelerator": "gpu",
   "dataSources": [
    {
     "datasetId": 6016855,
     "sourceId": 9814208,
     "sourceType": "datasetVersion"
    }
   ],
   "dockerImageVersionId": 30787,
   "isGpuEnabled": true,
   "isInternetEnabled": true,
   "language": "python",
   "sourceType": "notebook"
  },
  "kernelspec": {
   "display_name": "Python 3",
   "language": "python",
   "name": "python3"
  },
  "language_info": {
   "codemirror_mode": {
    "name": "ipython",
    "version": 3
   },
   "file_extension": ".py",
   "mimetype": "text/x-python",
   "name": "python",
   "nbconvert_exporter": "python",
   "pygments_lexer": "ipython3",
   "version": "3.10.14"
  },
  "papermill": {
   "default_parameters": {},
   "duration": null,
   "end_time": null,
   "environment_variables": {},
   "exception": null,
   "input_path": "__notebook__.ipynb",
   "output_path": "__notebook__.ipynb",
   "parameters": {},
   "start_time": "2024-11-14T10:56:39.083663",
   "version": "2.6.0"
  }
 },
 "nbformat": 4,
 "nbformat_minor": 5
}