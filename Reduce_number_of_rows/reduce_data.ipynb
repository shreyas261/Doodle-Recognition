{
 "cells": [
  {
   "cell_type": "code",
   "execution_count": 1,
   "metadata": {},
   "outputs": [],
   "source": [
    "import pandas as pd\n",
    "import os \n",
    "import seaborn as sns\n",
    "from matplotlib import pyplot as plt \n",
    "from textwrap import TextWrapper as TW\n",
    "import numpy as np"
   ]
  },
  {
   "cell_type": "code",
   "execution_count": 2,
   "metadata": {},
   "outputs": [],
   "source": [
    "def get_csv(path):\n",
    "    csv_files = []\n",
    "    for file in os.listdir(path):\n",
    "        if file.endswith('csv'):\n",
    "            csv_files.append(file)\n",
    "    return csv_files"
   ]
  },
  {
   "cell_type": "code",
   "execution_count": 3,
   "metadata": {},
   "outputs": [
    {
     "name": "stdout",
     "output_type": "stream",
     "text": [
      "All CSV files have been split and saved successfully.\n"
     ]
    }
   ],
   "source": [
    "import pandas as pd\n",
    "import os\n",
    "from sklearn.model_selection import train_test_split\n",
    "import glob\n",
    "\n",
    "# Input directory containing the original CSV files\n",
    "input_dir = 'input_folder'\n",
    "# Output directories for 20% and 80% splits\n",
    "output_dir_csv1 = 'csv1_folder'\n",
    "output_dir_csv2 = 'csv2_folder'\n",
    "\n",
    "# Create directories if they don't exist\n",
    "os.makedirs(output_dir_csv1, exist_ok=True)\n",
    "os.makedirs(output_dir_csv2, exist_ok=True)\n",
    "\n",
    "# Get all CSV files in the input directory\n",
    "path = \"E:\\Project_FML\\\\quickdraw-doodle-recognition\\\\train1\\\\\"\n",
    "csv_files = get_csv(path)\n",
    "\n",
    "for csv_file in csv_files:\n",
    "    # Load each CSV file\n",
    "    data = pd.read_csv(path + \"\\\\\" + csv_file,on_bad_lines='skip')\n",
    "    \n",
    "    # Split data into 20% and 80%\n",
    "    data_20, data_80 = train_test_split(data, test_size=0.5, random_state=42)\n",
    "    \n",
    "    # Extract the file name without directory\n",
    "    file_name = os.path.basename(csv_file)\n",
    "    \n",
    "    # Save each split into respective folders\n",
    "    data_20.to_csv(os.path.join(output_dir_csv1, file_name), index=False)\n",
    "    data_80.to_csv(os.path.join(output_dir_csv2, file_name), index=False)\n",
    "\n",
    "print(\"All CSV files have been split and saved successfully.\")\n"
   ]
  },
  {
   "cell_type": "code",
   "execution_count": 5,
   "metadata": {},
   "outputs": [],
   "source": [
    "import pandas as pd\n",
    "import os\n",
    "\n",
    "# Folder containing the CSV files\n",
    "folder_path = \"E:\\Project_FML\\\\train\\\\\"\n",
    "\n",
    "# List all CSV files in the folder\n",
    "csv_files = [f for f in os.listdir(folder_path) if f.endswith('.csv')]\n",
    "\n",
    "# Read each CSV file and store it in a list\n",
    "dataframes = []\n",
    "for file in csv_files:\n",
    "    df = pd.read_csv(os.path.join(folder_path, file))\n",
    "    dataframes.append(df)\n",
    "\n",
    "# Concatenate all DataFrames\n",
    "combined_df = pd.concat(dataframes, ignore_index=True)\n",
    "\n",
    "# Save the combined DataFrame to a new CSV file\n",
    "combined_df.to_csv(folder_path + 'combined.csv', index=False)\n"
   ]
  },
  {
   "cell_type": "code",
   "execution_count": null,
   "metadata": {},
   "outputs": [],
   "source": []
  }
 ],
 "metadata": {
  "kernelspec": {
   "display_name": "Python 3",
   "language": "python",
   "name": "python3"
  },
  "language_info": {
   "codemirror_mode": {
    "name": "ipython",
    "version": 3
   },
   "file_extension": ".py",
   "mimetype": "text/x-python",
   "name": "python",
   "nbconvert_exporter": "python",
   "pygments_lexer": "ipython3",
   "version": "3.11.9"
  }
 },
 "nbformat": 4,
 "nbformat_minor": 2
}
