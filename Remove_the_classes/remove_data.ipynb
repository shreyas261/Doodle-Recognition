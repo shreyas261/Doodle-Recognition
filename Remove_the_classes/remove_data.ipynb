{
 "cells": [
  {
   "cell_type": "code",
   "execution_count": 1,
   "metadata": {},
   "outputs": [],
   "source": [
    "import pandas as pd\n",
    "import os \n",
    "import seaborn as sns\n",
    "from matplotlib import pyplot as plt \n",
    "from textwrap import TextWrapper as TW\n",
    "import numpy as np\n",
    "\n"
   ]
  },
  {
   "cell_type": "code",
   "execution_count": 2,
   "metadata": {},
   "outputs": [],
   "source": [
    "def get_csv(path):\n",
    "    csv_files = []\n",
    "    for file in os.listdir(path):\n",
    "        if file.endswith('csv'):\n",
    "            csv_files.append(file)\n",
    "    return csv_files"
   ]
  },
  {
   "cell_type": "code",
   "execution_count": 3,
   "metadata": {},
   "outputs": [],
   "source": [
    "# text = open('Removed.txt','r')\n",
    "# df = pd.DataFrame()\n",
    "# file = text.read()\n",
    "# values = file.split('\\n')\n",
    "# for i in range(len(values)):\n",
    "#     values[i] += \".csv\""
   ]
  },
  {
   "cell_type": "code",
   "execution_count": 12,
   "metadata": {},
   "outputs": [],
   "source": [
    "text = open('keep.txt','r')\n",
    "df = pd.DataFrame()\n",
    "file = text.read()\n",
    "values = file.split('\\n')"
   ]
  },
  {
   "cell_type": "code",
   "execution_count": null,
   "metadata": {},
   "outputs": [],
   "source": [
    "testpath = \"E:\\\\Project_FML\\\\test\\\\\"\n",
    "rawcsv = get_csv(testpath)"
   ]
  },
  {
   "cell_type": "code",
   "execution_count": 5,
   "metadata": {},
   "outputs": [],
   "source": [
    "rawpath = \"E:\\\\Project_FML\\\\train\\\\\"\n",
    "rawcsv = get_csv(rawpath)"
   ]
  },
  {
   "cell_type": "code",
   "execution_count": 14,
   "metadata": {},
   "outputs": [],
   "source": [
    "removed_raw = []\n",
    "for i in rawcsv:\n",
    "    if(i not in values):\n",
    "        removed_raw.append(i)\n",
    "        os.remove(testpath + i)\n"
   ]
  },
  {
   "cell_type": "code",
   "execution_count": 7,
   "metadata": {},
   "outputs": [],
   "source": [
    "df['removed_raw'] = removed_raw\n",
    "df.to_csv(\"removed_data.csv\")"
   ]
  },
  {
   "cell_type": "code",
   "execution_count": 2,
   "metadata": {},
   "outputs": [],
   "source": [
    "df1 = pd.read_csv(\"removed_data1.csv\")\n",
    "df2 = pd.read_csv(\"removed_data.csv\")\n"
   ]
  },
  {
   "cell_type": "code",
   "execution_count": 5,
   "metadata": {},
   "outputs": [],
   "source": [
    "df = pd.DataFrame()\n",
    "i = 0\n",
    "col = []\n",
    "for j in df1['removed_simp']:\n",
    "    col.append(j)\n",
    "\n",
    "for j in df2['removed_raw']:\n",
    "    col.append(j)\n",
    "\n",
    "df['SN'] = np.arange(0,len(col))    \n",
    "df['removed'] = col"
   ]
  },
  {
   "cell_type": "code",
   "execution_count": 7,
   "metadata": {},
   "outputs": [],
   "source": [
    "df.to_csv(\"removed.csv\",index=False)"
   ]
  },
  {
   "cell_type": "code",
   "execution_count": null,
   "metadata": {},
   "outputs": [],
   "source": []
  }
 ],
 "metadata": {
  "kernelspec": {
   "display_name": "Python 3",
   "language": "python",
   "name": "python3"
  },
  "language_info": {
   "codemirror_mode": {
    "name": "ipython",
    "version": 3
   },
   "file_extension": ".py",
   "mimetype": "text/x-python",
   "name": "python",
   "nbconvert_exporter": "python",
   "pygments_lexer": "ipython3",
   "version": "3.11.9"
  }
 },
 "nbformat": 4,
 "nbformat_minor": 2
}
